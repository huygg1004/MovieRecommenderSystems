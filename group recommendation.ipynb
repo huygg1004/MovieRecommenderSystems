{
  "nbformat": 4,
  "nbformat_minor": 0,
  "metadata": {
    "colab": {
      "provenance": []
    },
    "kernelspec": {
      "name": "python3",
      "display_name": "Python 3"
    },
    "language_info": {
      "name": "python"
    }
  },
  "cells": [
    {
      "cell_type": "markdown",
      "source": [
        "# Iteration 1"
      ],
      "metadata": {
        "id": "M3RFQjirdvZP"
      }
    },
    {
      "cell_type": "code",
      "source": [
        "from google.colab import drive\n",
        "drive.mount('/content/drive')"
      ],
      "metadata": {
        "colab": {
          "base_uri": "https://localhost:8080/"
        },
        "id": "Fl7ZuXotd8dz",
        "outputId": "0b1d1443-5667-4043-b3cf-9bfeed514a4f"
      },
      "execution_count": null,
      "outputs": [
        {
          "output_type": "stream",
          "name": "stdout",
          "text": [
            "Drive already mounted at /content/drive; to attempt to forcibly remount, call drive.mount(\"/content/drive\", force_remount=True).\n"
          ]
        }
      ]
    },
    {
      "cell_type": "code",
      "source": [
        "import pandas as pd\n",
        "from pandas import DataFrame\n",
        "import numpy as np\n",
        "import matplotlib.pyplot as plt\n",
        "import math \n",
        "from pandas.core import shared_docs\n",
        "import scipy.stats\n",
        "\n",
        "# visualization\n",
        "import seaborn as sns\n",
        "\n",
        "# similarity\n",
        "from sklearn.metrics.pairwise import cosine_similarity\n",
        "from scipy.stats import pearsonr, kendalltau"
      ],
      "metadata": {
        "id": "2EmCgQ2UeGeM"
      },
      "execution_count": null,
      "outputs": []
    },
    {
      "cell_type": "code",
      "execution_count": null,
      "metadata": {
        "id": "Bx_zUiKIdtIC"
      },
      "outputs": [],
      "source": [
        "def alpha_score(userARec, userBRec, userCRec, GroupRec):\n",
        "  #Calculating the satisfaction score for every user\n",
        "  satUserA = np.sum(GroupRec)/np.sum(userARec)\n",
        "  satUserB = np.sum(GroupRec)/np.sum(userBRec)\n",
        "  satUserC = np.sum(GroupRec)/np.sum(userCRec)\n",
        "  satUsersList = [satUserA, satUserB, satUserC]\n",
        "\n",
        "  #Calculating the Group Satisfaction Score\n",
        "  group_sat = np.mean(satUsersList)\n",
        "\n",
        "  #Kendall Tau between the users so as to find out the disagreement among the users  \n",
        "  ktAB, p_valAB = kendalltau(userARec, userBRec)\n",
        "  ktBC, p_valBC = kendalltau(userBRec, userCRec)\n",
        "  ktAC, p_valAC = kendalltau(userARec, userCRec)\n",
        "\n",
        "  #Kendall Tau between users and group as done in assignment 2\n",
        "  tauAAVG_userA, p_valueA_userA = kendalltau(userARec, GroupRec)\n",
        "  tauAAVG_userB, p_valueA_userB = kendalltau(userBRec, GroupRec)\n",
        "  tauAAVG_userC, p_valueA_userC = kendalltau(userCRec, GroupRec)\n",
        "\n",
        "  #Calculating the means for two scenarios ;- among users, between user individual list and generated movie list\n",
        "  ktOnlyUsers = np.mean([ktAB, ktBC, ktAC])\n",
        "  ktOverall = np.mean([tauAAVG_userA, tauAAVG_userB, tauAAVG_userC])\n",
        "\n",
        "  #Group disagreement\n",
        "  #Difference of the result of two scenarios\n",
        "  alpha = abs(ktOnlyUsers - ktOverall)\n",
        "\n",
        "  return satUserA, satUserB, satUserC, alpha, group_sat"
      ]
    },
    {
      "cell_type": "code",
      "source": [
        "import numpy as np\n",
        "rating = pd.read_csv(\"/content/drive/MyDrive/DATA.ML.360/ratings.csv\")\n",
        "movies = pd.read_csv(\"/content/drive/MyDrive/DATA.ML.360/movies.csv\")\n",
        "df_assignment_3 = pd.merge(rating, movies, on='movieId', how='inner')\n",
        "chunks = np.array_split(df_assignment_3, 2)\n",
        "df_big_chunk = chunks[0]"
      ],
      "metadata": {
        "id": "Szo-oGEHd22M"
      },
      "execution_count": null,
      "outputs": []
    },
    {
      "cell_type": "code",
      "source": [
        "matrix_item_assignment_3 = df_big_chunk.pivot_table(index='title', columns='userId', values='rating')\n",
        "matrix_item_norm_assignment_3 = matrix_item_assignment_3.subtract(matrix_item_assignment_3.mean(axis=1), axis = 0)\n",
        "df_item_similarity_cosine_asign_3 = pd.DataFrame(cosine_similarity(matrix_item_norm_assignment_3.fillna(0.0000001)))\n",
        "item_similarity_pearson_assignment_3 = matrix_item_norm_assignment_3.T.corr()\n",
        "df_item_similarity_cosine_asign_3.columns = item_similarity_pearson_assignment_3.columns\n",
        "df_item_similarity_cosine_asign_3.index = item_similarity_pearson_assignment_3.index"
      ],
      "metadata": {
        "id": "ggjruTl-eQsd"
      },
      "execution_count": null,
      "outputs": []
    },
    {
      "cell_type": "code",
      "source": [
        "# Item-based recommendation function\n",
        "def item_based_rec_assignment_3(picked_userid, number_of_similar_items, number_of_recommendations):\n",
        "  import operator\n",
        "  # Movies that the target user has not watched\n",
        "  picked_userid_unwatched = pd.DataFrame(matrix_item_norm_assignment_3[picked_userid].isna()).reset_index()\n",
        "  picked_userid_unwatched = picked_userid_unwatched[picked_userid_unwatched[picked_userid]==True]['title'].values.tolist()\n",
        "\n",
        "  # Movies that the target user has watched\n",
        "  picked_userid_watched = pd.DataFrame(matrix_item_norm_assignment_3[picked_userid].dropna(axis=0, how='all')\\\n",
        "                            .sort_values(ascending=False))\\\n",
        "                            .reset_index()\\\n",
        "                            .rename(columns={picked_userid:'rating'})\n",
        "  \n",
        "  # Dictionary to save the unwatched movie and predicted rating pair\n",
        "  rating_prediction ={}  \n",
        "\n",
        "  # Loop through unwatched movies          \n",
        "  for picked_movie in picked_userid_unwatched: \n",
        "    # Calculate the similarity score of the picked movie iwth other movies\n",
        "    # picked_movie_similarity_score = item_similarity_pearson[[picked_movie]].reset_index().rename(columns={picked_movie:'similarity_score'})\n",
        "    picked_movie_similarity_score = df_item_similarity_cosine_asign_3[[picked_movie]].reset_index().rename(columns={picked_movie:'similarity_score'})\n",
        "\n",
        "    # Rank the similarities between the picked user watched movie and the picked unwatched movie.\n",
        "    picked_userid_watched_similarity = pd.merge(left=picked_userid_watched, \n",
        "                                                right=picked_movie_similarity_score, \n",
        "                                                on='title', \n",
        "                                                how='inner')\\\n",
        "                                        .sort_values('similarity_score', ascending=False)[:number_of_similar_items]\n",
        "\n",
        "    # Calculate the predicted rating using weighted average of similarity scores and the ratings from user 1\n",
        "    # predicted_rating = round(np.average(picked_userid_watched_similarity['rating']),6)\n",
        "    predicted_rating = round(np.average(picked_userid_watched_similarity['rating'], \n",
        "                                        weights=picked_userid_watched_similarity['similarity_score']), 6)\n",
        "    \n",
        "    # Save the predicted rating in the dictionary\n",
        "    rating_prediction[picked_movie] = predicted_rating\n",
        "    # Return the top recommended movies\n",
        "  return sorted(rating_prediction.items(), key=operator.itemgetter(1), reverse=True)[:number_of_recommendations]"
      ],
      "metadata": {
        "id": "LOr1HcE9eR_F"
      },
      "execution_count": null,
      "outputs": []
    },
    {
      "cell_type": "code",
      "source": [
        "#recommendations for user 110\n",
        "\n",
        "print(\"Recommended movies for user 110\")\n",
        "recommended_movies_user_110 = item_based_rec_assignment_3(picked_userid=110, number_of_similar_items=5, number_of_recommendations =20)\n",
        "recommended_movies_user_110_df = pd.DataFrame(recommended_movies_user_110)\n",
        "recommended_movies_user_110_df_list = recommended_movies_user_110_df[1].values.tolist()"
      ],
      "metadata": {
        "colab": {
          "base_uri": "https://localhost:8080/"
        },
        "id": "Lt7CCA93eVfJ",
        "outputId": "b967102b-6b81-4d18-dc11-83bbeb27bfd1"
      },
      "execution_count": null,
      "outputs": [
        {
          "output_type": "stream",
          "name": "stdout",
          "text": [
            "Recommended movies for user 110\n"
          ]
        }
      ]
    },
    {
      "cell_type": "code",
      "source": [
        "print(\"Recommended movies for user 250\")\n",
        "recommended_movies_user_250 = item_based_rec_assignment_3(picked_userid=250, number_of_similar_items=5, number_of_recommendations =20)\n",
        "recommended_movies_user_250_df = pd.DataFrame(recommended_movies_user_250)\n",
        "recommended_movies_user_250_df_list = recommended_movies_user_250_df[1].values.tolist()"
      ],
      "metadata": {
        "colab": {
          "base_uri": "https://localhost:8080/"
        },
        "id": "gEFQ2VZZeWmC",
        "outputId": "61fb852e-3140-4fdb-fd22-ccd60770dd67"
      },
      "execution_count": null,
      "outputs": [
        {
          "output_type": "stream",
          "name": "stdout",
          "text": [
            "Recommended movies for user 250\n"
          ]
        }
      ]
    },
    {
      "cell_type": "code",
      "source": [
        "print(\"Recommended movies for user 401\")\n",
        "recommended_movies_user_401 = item_based_rec_assignment_3(picked_userid=401, number_of_similar_items=5, number_of_recommendations =20)\n",
        "recommended_movies_user_401_df = pd.DataFrame(recommended_movies_user_401)\n",
        "recommended_movies_user_401_df_list = recommended_movies_user_401_df[1].values.tolist()"
      ],
      "metadata": {
        "colab": {
          "base_uri": "https://localhost:8080/"
        },
        "id": "tUpHGInWeYDm",
        "outputId": "ae874f22-c0a8-46f8-bb20-7468b388f7f6"
      },
      "execution_count": null,
      "outputs": [
        {
          "output_type": "stream",
          "name": "stdout",
          "text": [
            "Recommended movies for user 401\n"
          ]
        }
      ]
    },
    {
      "cell_type": "code",
      "source": [
        "output_list_group_3 = []\n",
        "user_id_lists = [110,250,401]\n",
        "for user in user_id_lists:\n",
        "    recommended_movie = item_based_rec_assignment_3(picked_userid=user, number_of_similar_items=5, number_of_recommendations =20)\n",
        "    output_list_group_3.append(recommended_movie)"
      ],
      "metadata": {
        "id": "Xtt8EQ4CeZba"
      },
      "execution_count": null,
      "outputs": []
    },
    {
      "cell_type": "code",
      "source": [
        "#converting into dataframe\n",
        "group_movies_df =  pd.DataFrame([t for lst in output_list_group_3 for t in lst])\n",
        "group_movies_df = group_movies_df.rename(columns={0: 'movie', 1: 'score'})"
      ],
      "metadata": {
        "id": "3y4XCLo3eadd"
      },
      "execution_count": null,
      "outputs": []
    },
    {
      "cell_type": "code",
      "source": [
        "#using the average aggregation\n",
        "df_mean = group_movies_df.groupby(['movie']).mean()\n",
        "recommendations_for_3 = df_mean.sort_values(by=['score'], ascending=False)"
      ],
      "metadata": {
        "id": "xSilaKKfebs0"
      },
      "execution_count": null,
      "outputs": []
    },
    {
      "cell_type": "code",
      "source": [
        "recommendations_for_3_list = recommendations_for_3['score'].values.tolist()\n",
        "recommendations_for_3_list_top20 = recommendations_for_3_list[:20]"
      ],
      "metadata": {
        "id": "unTrLaHTedTl"
      },
      "execution_count": null,
      "outputs": []
    },
    {
      "cell_type": "code",
      "source": [
        "#get satisfaction score of first iteration\n",
        "satA1, satB1, satC1, alpha1, group_sat1= alpha_score(recommended_movies_user_110_df_list, recommended_movies_user_250_df_list, recommended_movies_user_401_df_list, recommendations_for_3_list_top20)"
      ],
      "metadata": {
        "id": "GmGF2PGlee7o"
      },
      "execution_count": null,
      "outputs": []
    },
    {
      "cell_type": "code",
      "source": [
        "satA1, satB1, satC1, alpha1, group_sat1"
      ],
      "metadata": {
        "colab": {
          "base_uri": "https://localhost:8080/"
        },
        "id": "H_XZvubeegfX",
        "outputId": "f587c4d7-e145-4134-9aaf-dd1160743ec5"
      },
      "execution_count": null,
      "outputs": [
        {
          "output_type": "execute_result",
          "data": {
            "text/plain": [
              "(3.0918695664131377,\n",
              " 1.0273396900142306,\n",
              " 2.6968652229793735,\n",
              " 0.0640479459038612,\n",
              " 2.272024826468914)"
            ]
          },
          "metadata": {},
          "execution_count": 15
        }
      ]
    },
    {
      "cell_type": "markdown",
      "source": [
        "# Iteration 2"
      ],
      "metadata": {
        "id": "Uks44z47fD7U"
      }
    },
    {
      "cell_type": "code",
      "source": [
        "mini_chunks = np.array_split(chunks[1], 4)"
      ],
      "metadata": {
        "id": "5CC06UoVfdpN"
      },
      "execution_count": null,
      "outputs": []
    },
    {
      "cell_type": "code",
      "source": [
        "\n",
        "print(sorted(chunks[0][\"userId\"].unique()))\n",
        "print(sorted(mini_chunks[0][\"userId\"].unique()))\n",
        "print(sorted(mini_chunks[1][\"userId\"].unique()))\n",
        "print(sorted(mini_chunks[2][\"userId\"].unique()))\n",
        "print(sorted(mini_chunks[3][\"userId\"].unique()))"
      ],
      "metadata": {
        "colab": {
          "base_uri": "https://localhost:8080/"
        },
        "id": "UTaPwRr71Atn",
        "outputId": "de04f56c-035f-4565-e55c-f15bc273aa49"
      },
      "execution_count": null,
      "outputs": [
        {
          "output_type": "stream",
          "name": "stdout",
          "text": [
            "[1, 2, 3, 4, 5, 6, 7, 8, 9, 10, 11, 12, 13, 14, 15, 16, 17, 18, 19, 20, 21, 22, 23, 24, 25, 26, 27, 28, 29, 30, 31, 32, 33, 34, 35, 36, 37, 38, 39, 40, 41, 42, 43, 44, 45, 46, 47, 48, 49, 50, 51, 52, 53, 54, 55, 56, 57, 58, 59, 60, 61, 62, 63, 64, 65, 66, 67, 68, 69, 70, 71, 72, 73, 74, 75, 76, 77, 78, 79, 80, 81, 82, 83, 84, 85, 86, 87, 88, 89, 90, 91, 92, 93, 94, 95, 96, 97, 98, 99, 100, 101, 102, 103, 104, 105, 106, 107, 108, 109, 110, 111, 112, 113, 114, 115, 116, 117, 118, 119, 120, 121, 122, 123, 124, 125, 126, 127, 128, 129, 130, 131, 132, 133, 134, 135, 136, 137, 138, 139, 140, 141, 142, 143, 144, 145, 146, 147, 148, 149, 150, 151, 152, 153, 154, 155, 156, 157, 158, 159, 160, 161, 162, 163, 164, 165, 166, 167, 168, 169, 170, 171, 172, 173, 174, 175, 176, 177, 178, 179, 180, 181, 182, 183, 184, 185, 186, 187, 188, 189, 190, 191, 192, 193, 194, 195, 196, 197, 198, 199, 200, 201, 202, 203, 204, 205, 206, 207, 208, 209, 210, 211, 212, 213, 214, 215, 216, 217, 218, 219, 220, 221, 222, 223, 224, 225, 226, 227, 228, 229, 230, 231, 232, 233, 234, 235, 236, 237, 238, 239, 240, 241, 242, 243, 244, 245, 246, 247, 248, 249, 250, 251, 252, 253, 254, 255, 256, 257, 258, 259, 260, 261, 262, 263, 264, 265, 266, 267, 268, 269, 270, 271, 272, 273, 274, 275, 276, 277, 278, 279, 280, 281, 282, 283, 284, 285, 286, 287, 288, 289, 290, 291, 292, 293, 294, 295, 296, 297, 298, 299, 300, 301, 302, 303, 304, 305, 306, 307, 308, 309, 310, 311, 312, 313, 314, 315, 316, 317, 318, 319, 320, 321, 322, 323, 324, 325, 326, 327, 328, 329, 330, 331, 332, 333, 334, 335, 336, 337, 338, 339, 340, 341, 342, 343, 344, 345, 346, 347, 348, 349, 350, 351, 352, 353, 354, 355, 356, 357, 358, 359, 360, 361, 362, 363, 364, 365, 366, 367, 368, 369, 370, 371, 372, 373, 374, 375, 376, 377, 378, 379, 380, 381, 382, 383, 384, 385, 386, 387, 388, 389, 390, 391, 392, 393, 394, 395, 396, 397, 398, 399, 400, 401, 402, 403, 404, 405, 406, 407, 408, 409, 410, 411, 412, 413, 414, 415, 416, 417, 418, 419, 420, 421, 422, 423, 424, 425, 426, 427, 428, 429, 430, 431, 432, 433, 434, 435, 436, 437, 438, 439, 440, 441, 442, 443, 444, 445, 446, 447, 448, 449, 450, 451, 452, 453, 454, 455, 456, 457, 458, 459, 460, 461, 462, 463, 464, 465, 466, 467, 468, 469, 470, 471, 472, 473, 474, 475, 476, 477, 478, 479, 480, 481, 482, 483, 484, 485, 486, 487, 488, 489, 490, 491, 492, 493, 494, 495, 496, 497, 498, 499, 500, 501, 502, 503, 504, 505, 506, 507, 508, 509, 510, 511, 512, 513, 514, 515, 516, 517, 518, 519, 520, 521, 522, 523, 524, 525, 526, 527, 528, 529, 530, 531, 532, 533, 534, 535, 536, 537, 538, 539, 540, 541, 542, 543, 544, 545, 546, 547, 548, 549, 550, 551, 552, 553, 554, 555, 556, 557, 558, 559, 560, 561, 562, 563, 564, 565, 566, 567, 568, 569, 570, 571, 572, 573, 574, 575, 576, 577, 578, 579, 580, 581, 582, 583, 584, 585, 586, 587, 588, 589, 590, 591, 592, 593, 594, 595, 596, 597, 598, 599, 600, 601, 602, 603, 604, 605, 606, 607, 608, 609, 610]\n",
            "[17, 18, 19, 20, 21, 22, 23, 24, 25, 27, 28, 29, 30, 31, 32, 33, 34, 36, 37, 38, 39, 40, 41, 42, 43, 44, 45, 46, 47, 48, 49, 50, 51, 52, 53, 54, 55, 56, 57, 58, 59, 60, 61, 62, 63, 64, 65, 66, 67, 68, 69, 70, 71, 72, 73, 74, 75, 76, 77, 78, 79, 80, 82, 83, 84, 85, 86, 87, 88, 89, 90, 91, 92, 93, 94, 95, 96, 97, 98, 99, 100, 101, 102, 103, 104, 105, 106, 108, 109, 110, 111, 112, 113, 114, 115, 116, 117, 118, 119, 120, 121, 122, 123, 124, 125, 127, 128, 129, 131, 132, 133, 134, 135, 136, 137, 138, 139, 140, 141, 143, 144, 146, 147, 148, 149, 150, 151, 152, 153, 154, 155, 156, 157, 158, 159, 160, 161, 163, 164, 165, 166, 167, 168, 169, 170, 171, 172, 174, 175, 177, 178, 179, 180, 181, 182, 183, 184, 185, 186, 187, 188, 190, 191, 193, 194, 195, 196, 197, 198, 199, 200, 201, 202, 203, 204, 205, 206, 207, 208, 209, 210, 211, 212, 213, 214, 215, 216, 217, 218, 219, 220, 221, 222, 223, 224, 225, 226, 227, 228, 229, 230, 231, 232, 233, 234, 235, 236, 237, 238, 239, 240, 241, 243, 244, 245, 246, 247, 248, 249, 250, 252, 253, 254, 255, 256, 257, 258, 259, 260, 261, 262, 263, 264, 265, 266, 267, 268, 269, 270, 271, 272, 273, 274, 275, 276, 277, 278, 279, 280, 281, 282, 283, 284, 285, 286, 287, 288, 289, 290, 291, 292, 293, 294, 295, 297, 298, 299, 300, 301, 302, 303, 304, 305, 306, 307, 308, 309, 310, 311, 312, 313, 314, 315, 316, 317, 318, 319, 320, 322, 323, 324, 325, 326, 327, 328, 329, 330, 331, 332, 333, 334, 335, 336, 337, 338, 339, 340, 341, 342, 343, 344, 345, 346, 348, 349, 350, 351, 352, 353, 354, 355, 356, 357, 358, 359, 360, 361, 362, 363, 364, 365, 366, 367, 368, 369, 370, 371, 372, 373, 374, 375, 376, 377, 378, 380, 381, 382, 383, 384, 385, 386, 387, 388, 389, 390, 391, 392, 393, 395, 396, 397, 398, 399, 400, 401, 402, 403, 405, 406, 407, 408, 409, 410, 411, 412, 413, 414, 415, 416, 417, 418, 419, 420, 421, 422, 423, 424, 425, 426, 427, 428, 429, 430, 431, 432, 433, 434, 435, 436, 437, 438, 439, 440, 441, 442, 443, 444, 445, 446, 447, 448, 449, 450, 451, 452, 453, 454, 455, 456, 457, 458, 459, 460, 461, 462, 463, 464, 465, 466, 467, 469, 470, 471, 472, 473, 474, 475, 476, 477, 479, 480, 481, 482, 483, 484, 486, 487, 488, 489, 490, 491, 492, 493, 494, 495, 496, 497, 499, 500, 501, 502, 503, 504, 505, 506, 508, 509, 510, 511, 512, 513, 514, 515, 517, 518, 519, 520, 522, 523, 524, 525, 526, 527, 528, 529, 531, 532, 533, 534, 535, 536, 537, 538, 539, 540, 541, 542, 543, 544, 545, 546, 547, 548, 549, 550, 551, 552, 553, 554, 555, 556, 557, 558, 559, 560, 561, 562, 563, 564, 565, 566, 567, 568, 570, 571, 572, 573, 575, 576, 577, 578, 579, 580, 581, 582, 583, 584, 585, 586, 587, 588, 589, 590, 591, 592, 593, 594, 595, 596, 597, 598, 599, 600, 601, 602, 603, 604, 605, 606, 607, 608, 609, 610]\n",
            "[19, 20, 21, 22, 23, 24, 25, 27, 28, 29, 30, 31, 32, 33, 34, 36, 38, 39, 40, 41, 42, 43, 44, 45, 47, 50, 51, 52, 53, 54, 55, 56, 57, 58, 59, 60, 61, 62, 63, 64, 65, 66, 67, 68, 69, 70, 72, 73, 74, 75, 76, 77, 78, 79, 80, 82, 83, 84, 85, 86, 88, 89, 90, 91, 92, 93, 95, 96, 97, 98, 99, 100, 101, 102, 103, 104, 105, 106, 108, 109, 110, 111, 112, 113, 114, 115, 116, 117, 118, 119, 121, 122, 123, 124, 125, 127, 128, 129, 131, 132, 133, 135, 136, 137, 138, 139, 140, 141, 142, 143, 144, 146, 148, 149, 150, 151, 152, 153, 154, 155, 156, 157, 158, 159, 160, 161, 162, 164, 165, 166, 167, 168, 169, 170, 171, 172, 175, 176, 177, 178, 179, 180, 182, 183, 184, 185, 186, 187, 188, 189, 190, 191, 193, 194, 195, 196, 197, 198, 199, 200, 201, 202, 203, 204, 205, 206, 207, 209, 210, 211, 212, 213, 214, 215, 216, 217, 218, 219, 220, 221, 222, 223, 224, 225, 226, 227, 228, 230, 231, 232, 233, 234, 235, 236, 237, 238, 239, 241, 244, 245, 246, 247, 248, 249, 250, 252, 253, 254, 255, 256, 258, 259, 260, 261, 262, 263, 264, 265, 266, 267, 268, 269, 270, 271, 272, 273, 274, 275, 277, 278, 279, 280, 281, 282, 283, 284, 285, 286, 287, 288, 289, 290, 291, 292, 293, 294, 295, 296, 297, 298, 299, 300, 301, 302, 303, 304, 305, 306, 307, 308, 309, 310, 311, 312, 313, 314, 315, 316, 317, 318, 319, 320, 322, 323, 324, 325, 326, 327, 328, 329, 330, 331, 332, 333, 334, 335, 336, 337, 338, 339, 341, 342, 343, 344, 345, 346, 348, 350, 351, 352, 353, 354, 355, 356, 357, 358, 359, 360, 361, 362, 364, 365, 366, 367, 368, 369, 370, 371, 372, 373, 375, 376, 377, 378, 380, 381, 382, 383, 384, 385, 386, 387, 388, 389, 390, 391, 392, 393, 395, 397, 398, 399, 400, 401, 402, 403, 404, 405, 406, 407, 408, 409, 410, 411, 412, 413, 414, 415, 416, 417, 418, 419, 420, 421, 422, 424, 425, 426, 427, 428, 429, 430, 431, 432, 433, 434, 435, 436, 437, 438, 440, 441, 442, 443, 445, 446, 448, 449, 450, 451, 452, 453, 454, 455, 456, 457, 459, 460, 462, 463, 464, 465, 466, 467, 469, 470, 471, 472, 473, 474, 475, 476, 477, 478, 479, 480, 481, 482, 483, 484, 487, 488, 489, 490, 491, 492, 493, 494, 495, 496, 498, 499, 500, 501, 502, 503, 504, 505, 506, 508, 509, 510, 511, 514, 515, 516, 517, 518, 519, 520, 521, 522, 523, 524, 525, 526, 527, 528, 529, 531, 532, 533, 534, 535, 536, 537, 538, 539, 540, 541, 542, 543, 545, 546, 548, 550, 551, 552, 553, 554, 555, 556, 558, 559, 560, 561, 562, 563, 564, 566, 567, 568, 570, 571, 572, 573, 575, 576, 577, 578, 579, 580, 582, 583, 584, 585, 586, 587, 588, 589, 590, 591, 592, 593, 594, 595, 596, 597, 598, 599, 600, 601, 602, 603, 604, 605, 606, 607, 608, 609, 610]\n",
            "[41, 42, 43, 44, 45, 47, 48, 50, 51, 52, 53, 54, 55, 56, 57, 58, 59, 60, 62, 63, 64, 65, 66, 67, 68, 69, 70, 71, 72, 73, 74, 75, 76, 78, 79, 80, 82, 83, 84, 85, 86, 87, 88, 89, 90, 91, 92, 93, 95, 96, 97, 98, 99, 100, 101, 103, 104, 105, 106, 108, 109, 110, 111, 113, 114, 115, 116, 117, 118, 119, 122, 123, 124, 125, 127, 128, 129, 131, 132, 134, 135, 136, 137, 138, 139, 140, 141, 142, 143, 144, 146, 148, 149, 151, 152, 153, 154, 155, 156, 157, 158, 159, 160, 161, 162, 163, 164, 165, 166, 167, 168, 169, 171, 172, 175, 177, 178, 179, 180, 181, 182, 183, 184, 185, 186, 187, 188, 190, 191, 193, 195, 197, 198, 199, 200, 201, 202, 204, 205, 206, 207, 208, 209, 210, 211, 212, 213, 215, 216, 217, 219, 220, 221, 222, 223, 224, 225, 226, 227, 228, 229, 230, 232, 233, 234, 236, 237, 238, 239, 240, 241, 243, 244, 245, 246, 247, 248, 249, 250, 251, 252, 253, 254, 255, 256, 259, 260, 261, 262, 263, 264, 265, 266, 267, 268, 269, 270, 271, 272, 274, 275, 276, 277, 278, 279, 280, 281, 282, 283, 284, 285, 286, 287, 288, 289, 290, 291, 292, 293, 294, 295, 297, 298, 299, 300, 301, 302, 303, 304, 305, 306, 307, 308, 309, 310, 311, 312, 313, 314, 315, 316, 317, 318, 319, 320, 322, 323, 324, 325, 326, 327, 328, 329, 330, 331, 332, 333, 334, 336, 337, 338, 339, 341, 342, 343, 344, 345, 346, 348, 350, 351, 352, 353, 354, 355, 356, 357, 358, 359, 360, 361, 362, 363, 365, 367, 368, 369, 371, 372, 373, 374, 375, 376, 377, 378, 380, 381, 382, 383, 384, 385, 386, 387, 388, 390, 391, 392, 393, 395, 396, 397, 398, 400, 401, 403, 405, 406, 408, 409, 410, 411, 412, 413, 414, 415, 416, 417, 418, 419, 420, 421, 422, 423, 424, 425, 426, 427, 428, 429, 430, 432, 433, 434, 436, 437, 438, 439, 440, 441, 442, 443, 445, 447, 448, 450, 452, 453, 454, 456, 457, 458, 459, 460, 462, 463, 464, 465, 466, 467, 469, 470, 471, 472, 473, 474, 475, 477, 479, 480, 481, 482, 483, 484, 486, 487, 488, 489, 490, 491, 492, 493, 495, 496, 497, 499, 500, 501, 502, 503, 504, 505, 506, 508, 509, 510, 511, 514, 515, 516, 517, 518, 520, 521, 522, 523, 524, 525, 526, 527, 528, 531, 532, 533, 534, 535, 536, 537, 538, 539, 540, 541, 542, 543, 544, 545, 546, 547, 548, 551, 552, 553, 554, 555, 556, 558, 559, 560, 561, 562, 563, 564, 566, 567, 568, 570, 571, 572, 573, 575, 576, 577, 578, 579, 580, 582, 583, 584, 585, 586, 587, 588, 590, 591, 592, 593, 594, 595, 596, 597, 598, 599, 600, 601, 602, 603, 604, 605, 606, 607, 608, 609, 610]\n",
            "[105, 106, 108, 109, 110, 111, 113, 114, 115, 116, 117, 119, 122, 123, 125, 128, 129, 131, 132, 135, 136, 137, 138, 139, 140, 142, 143, 144, 146, 148, 149, 151, 153, 154, 155, 156, 157, 158, 160, 161, 163, 164, 165, 166, 167, 168, 169, 171, 175, 177, 178, 179, 181, 182, 183, 184, 185, 186, 187, 188, 191, 193, 195, 197, 198, 199, 200, 202, 204, 205, 209, 210, 212, 213, 214, 215, 216, 217, 219, 220, 221, 222, 223, 224, 225, 226, 227, 228, 230, 232, 233, 234, 236, 237, 238, 240, 241, 244, 245, 246, 247, 248, 249, 250, 251, 252, 253, 254, 255, 256, 260, 261, 262, 263, 264, 265, 266, 267, 268, 269, 270, 271, 274, 275, 277, 279, 280, 282, 283, 284, 285, 286, 287, 288, 289, 290, 291, 292, 294, 295, 296, 297, 298, 299, 301, 303, 304, 305, 306, 307, 308, 309, 310, 311, 312, 313, 314, 315, 317, 318, 320, 322, 323, 324, 325, 326, 327, 328, 329, 330, 331, 332, 333, 334, 336, 337, 338, 339, 341, 342, 343, 344, 345, 346, 348, 351, 352, 353, 356, 357, 358, 359, 360, 361, 362, 363, 364, 365, 367, 368, 369, 371, 372, 373, 376, 377, 380, 381, 382, 383, 384, 385, 387, 388, 389, 390, 391, 393, 397, 398, 401, 402, 403, 405, 406, 408, 409, 410, 411, 412, 414, 415, 416, 418, 419, 420, 421, 422, 424, 425, 426, 427, 428, 429, 430, 432, 434, 436, 437, 438, 440, 441, 443, 444, 448, 450, 452, 453, 454, 456, 460, 462, 464, 465, 467, 469, 473, 474, 475, 476, 477, 478, 479, 480, 481, 482, 483, 484, 487, 488, 489, 490, 491, 492, 493, 494, 495, 496, 497, 499, 500, 501, 502, 503, 504, 505, 506, 509, 510, 511, 513, 514, 515, 516, 517, 520, 521, 522, 523, 524, 525, 526, 527, 528, 531, 532, 533, 534, 535, 536, 537, 538, 540, 541, 542, 543, 544, 545, 546, 547, 548, 549, 550, 551, 552, 553, 554, 555, 556, 558, 559, 560, 561, 562, 563, 564, 567, 568, 571, 572, 573, 575, 577, 578, 579, 580, 583, 585, 586, 587, 588, 589, 590, 591, 593, 594, 595, 596, 597, 598, 599, 600, 601, 602, 603, 604, 605, 606, 607, 608, 609, 610]\n"
          ]
        }
      ]
    },
    {
      "cell_type": "code",
      "source": [
        "df_big_chunk_and_chunk_2_1 = pd.concat([chunks[0],mini_chunks[0]], ignore_index=True)"
      ],
      "metadata": {
        "id": "1xhK7poyiJ5c"
      },
      "execution_count": null,
      "outputs": []
    },
    {
      "cell_type": "code",
      "source": [
        "matrix_item_assignment_3_iter2 = df_big_chunk_and_chunk_2_1.pivot_table(index='title', columns='userId', values='rating')\n",
        "matrix_item_norm_assignment_3_iter2 = matrix_item_assignment_3_iter2.subtract(matrix_item_assignment_3_iter2.mean(axis=1), axis = 0)\n",
        "df_item_similarity_cosine_asign_3_iter2 = pd.DataFrame(cosine_similarity(matrix_item_norm_assignment_3_iter2.fillna(0.0000001)))\n",
        "item_similarity_pearson_assignment_3_iter2 = matrix_item_norm_assignment_3_iter2.T.corr()\n",
        "df_item_similarity_cosine_asign_3_iter2.columns = item_similarity_pearson_assignment_3_iter2.columns\n",
        "df_item_similarity_cosine_asign_3_iter2.index = item_similarity_pearson_assignment_3_iter2.index"
      ],
      "metadata": {
        "id": "GPT6iTJTgxTE"
      },
      "execution_count": null,
      "outputs": []
    },
    {
      "cell_type": "code",
      "source": [
        "# Item-based recommendation function\n",
        "def item_based_rec_assignment_3_iter2(picked_userid, number_of_similar_items, number_of_recommendations):\n",
        "  import operator\n",
        "  # Movies that the target user has not watched\n",
        "  picked_userid_unwatched = pd.DataFrame(matrix_item_norm_assignment_3_iter2[picked_userid].isna()).reset_index()\n",
        "  picked_userid_unwatched = picked_userid_unwatched[picked_userid_unwatched[picked_userid]==True]['title'].values.tolist()\n",
        "\n",
        "  # Movies that the target user has watched\n",
        "  picked_userid_watched = pd.DataFrame(matrix_item_norm_assignment_3_iter2[picked_userid].dropna(axis=0, how='all')\\\n",
        "                            .sort_values(ascending=False))\\\n",
        "                            .reset_index()\\\n",
        "                            .rename(columns={picked_userid:'rating'})\n",
        "  \n",
        "  # Dictionary to save the unwatched movie and predicted rating pair\n",
        "  rating_prediction ={}  \n",
        "\n",
        "  # Loop through unwatched movies          \n",
        "  for picked_movie in picked_userid_unwatched: \n",
        "    # Calculate the similarity score of the picked movie iwth other movies\n",
        "    # picked_movie_similarity_score = item_similarity_pearson[[picked_movie]].reset_index().rename(columns={picked_movie:'similarity_score'})\n",
        "    picked_movie_similarity_score = df_item_similarity_cosine_asign_3_iter2[[picked_movie]].reset_index().rename(columns={picked_movie:'similarity_score'})\n",
        "\n",
        "    # Rank the similarities between the picked user watched movie and the picked unwatched movie.\n",
        "    picked_userid_watched_similarity = pd.merge(left=picked_userid_watched, \n",
        "                                                right=picked_movie_similarity_score, \n",
        "                                                on='title', \n",
        "                                                how='inner')\\\n",
        "                                        .sort_values('similarity_score', ascending=False)[:number_of_similar_items]\n",
        "\n",
        "    # Calculate the predicted rating using weighted average of similarity scores and the ratings from user 1\n",
        "    # predicted_rating = round(np.average(picked_userid_watched_similarity['rating']),6)\n",
        "    predicted_rating = round(np.average(picked_userid_watched_similarity['rating'], \n",
        "                                        weights=picked_userid_watched_similarity['similarity_score']), 6)\n",
        "    \n",
        "    # Save the predicted rating in the dictionary\n",
        "    rating_prediction[picked_movie] = predicted_rating\n",
        "    # Return the top recommended movies\n",
        "  return sorted(rating_prediction.items(), key=operator.itemgetter(1), reverse=True)[:number_of_recommendations]"
      ],
      "metadata": {
        "id": "C_0OY_QSk-I3"
      },
      "execution_count": null,
      "outputs": []
    },
    {
      "cell_type": "code",
      "source": [
        "#recommendations for user 110\n",
        "\n",
        "print(\"Recommended movies for user 110\")\n",
        "recommended_movies_user_110 = item_based_rec_assignment_3(picked_userid=110, number_of_similar_items=5, number_of_recommendations =20)\n",
        "recommended_movies_user_110_df = pd.DataFrame(recommended_movies_user_110)\n",
        "recommended_movies_user_110_df_list = recommended_movies_user_110_df[1].values.tolist()"
      ],
      "metadata": {
        "colab": {
          "base_uri": "https://localhost:8080/"
        },
        "id": "90-fDKiLgy_a",
        "outputId": "a412bb3f-9719-49c0-fe78-9a5bcaa46efd"
      },
      "execution_count": null,
      "outputs": [
        {
          "output_type": "stream",
          "name": "stdout",
          "text": [
            "Recommended movies for user 110\n"
          ]
        }
      ]
    },
    {
      "cell_type": "code",
      "source": [
        "print(\"Recommended movies for user 250\")\n",
        "recommended_movies_user_250 = item_based_rec_assignment_3(picked_userid=250, number_of_similar_items=5, number_of_recommendations =20)\n",
        "recommended_movies_user_250_df = pd.DataFrame(recommended_movies_user_250)\n",
        "recommended_movies_user_250_df_list = recommended_movies_user_250_df[1].values.tolist()"
      ],
      "metadata": {
        "colab": {
          "base_uri": "https://localhost:8080/"
        },
        "id": "6-O-sN7YhSrL",
        "outputId": "09b3efcf-7bb2-40e9-8f90-03bac4513ec9"
      },
      "execution_count": null,
      "outputs": [
        {
          "output_type": "stream",
          "name": "stdout",
          "text": [
            "Recommended movies for user 250\n"
          ]
        }
      ]
    },
    {
      "cell_type": "code",
      "source": [
        "print(\"Recommended movies for user 401\")\n",
        "recommended_movies_user_401 = item_based_rec_assignment_3(picked_userid=401, number_of_similar_items=5, number_of_recommendations =20)\n",
        "recommended_movies_user_401_df = pd.DataFrame(recommended_movies_user_401)\n",
        "recommended_movies_user_401_df_list = recommended_movies_user_401_df[1].values.tolist()"
      ],
      "metadata": {
        "colab": {
          "base_uri": "https://localhost:8080/"
        },
        "id": "ypiAEzq-hTNx",
        "outputId": "b9257b13-7237-4155-c992-8c127ce82233"
      },
      "execution_count": null,
      "outputs": [
        {
          "output_type": "stream",
          "name": "stdout",
          "text": [
            "Recommended movies for user 401\n"
          ]
        }
      ]
    },
    {
      "cell_type": "code",
      "source": [
        "output_list_group_3_iter2 = []\n",
        "user_id_lists = [110,250,401]\n",
        "for user in user_id_lists:\n",
        "    recommended_movie = item_based_rec_assignment_3_iter2(picked_userid=user, number_of_similar_items=5, number_of_recommendations =20)\n",
        "    output_list_group_3_iter2.append(recommended_movie)"
      ],
      "metadata": {
        "id": "83KSxM9ThYEX"
      },
      "execution_count": null,
      "outputs": []
    },
    {
      "cell_type": "code",
      "source": [
        "#converting into dataframe\n",
        "group_movies_df_iter2 =  pd.DataFrame([t for lst in output_list_group_3 for t in lst])\n",
        "group_movies_df_iter2 = group_movies_df.rename(columns={0: 'movie', 1: 'score'})"
      ],
      "metadata": {
        "id": "cJQSbRSDhazM"
      },
      "execution_count": null,
      "outputs": []
    },
    {
      "cell_type": "code",
      "source": [
        "group_movies_df_iter2"
      ],
      "metadata": {
        "colab": {
          "base_uri": "https://localhost:8080/",
          "height": 1000
        },
        "id": "tFAHzcWv6VZ4",
        "outputId": "53b9a53b-eb8c-4a17-880c-0c481a248333"
      },
      "execution_count": null,
      "outputs": [
        {
          "output_type": "execute_result",
          "data": {
            "text/plain": [
              "                                          movie     score\n",
              "0                  Bridget Jones's Diary (2001)  0.533963\n",
              "1               Priceless (Hors de prix) (2006)  0.522125\n",
              "2                             Speechless (1994)  0.507170\n",
              "3                               Mallrats (1995)  0.486892\n",
              "4                              Roommates (1995)  0.457311\n",
              "5      Princess Mononoke (Mononoke-hime) (1997)  0.447869\n",
              "6                           General, The (1926)  0.434774\n",
              "7                 Breakfast at Tiffany's (1961)  0.422058\n",
              "8                      Lord of Illusions (1995)  0.410941\n",
              "9                        Valentine's Day (2010)  0.401128\n",
              "10                           Richard III (1995)  0.395290\n",
              "11                       Charlotte's Web (1973)  0.384728\n",
              "12                  (500) Days of Summer (2009)  0.369829\n",
              "13                              20 Dates (1998)  0.361809\n",
              "14                           With Honors (1994)  0.355781\n",
              "15                    When We Were Kings (1996)  0.345397\n",
              "16                         Fly Away Home (1996)  0.338312\n",
              "17                Together (Tillsammans) (2000)  0.336279\n",
              "18                     Road to Perdition (2002)  0.335548\n",
              "19               Crimes and Misdemeanors (1989)  0.333971\n",
              "20                                  Safe (1995)  1.436479\n",
              "21                               Mr. Mom (1983)  1.292588\n",
              "22                          Program, The (1993)  1.285166\n",
              "23                                L.I.E. (2001)  1.278402\n",
              "24                           Sling Blade (1996)  1.265142\n",
              "25                   Tales from the Hood (1995)  1.264544\n",
              "26                           Match Point (2005)  1.242517\n",
              "27                            Dead Again (1991)  1.233744\n",
              "28                 2001: A Space Odyssey (1968)  1.232912\n",
              "29                      Muriel's Wedding (1994)  1.231663\n",
              "30                             Tank Girl (1995)  1.208204\n",
              "31  Eat Drink Man Woman (Yin shi nan nu) (1994)  1.203306\n",
              "32                                 Shaft (2000)  1.198530\n",
              "33                            Inside Job (2010)  1.195232\n",
              "34  Hobbit: The Desolation of Smaug, The (2013)  1.190717\n",
              "35                      Somebody to Love (1994)  1.188026\n",
              "36                   King of Comedy, The (1983)  1.179470\n",
              "37              Escape to Witch Mountain (1975)  1.170227\n",
              "38                         Terminal, The (2004)  1.162897\n",
              "39                          Moulin Rouge (2001)  1.162203\n",
              "40               Simple Twist of Fate, A (1994)  1.499419\n",
              "41                      Before and After (1996)  1.498838\n",
              "42                             Showgirls (1995)  0.718141\n",
              "43                              Saturn 3 (1980)  0.569695\n",
              "44                       Michael Collins (1996)  0.362096\n",
              "45                   Cops and Robbersons (1994)  0.347776\n",
              "46                             High Noon (1952)  0.347495\n",
              "47                               Mad Max (1979)  0.312743\n",
              "48                             Cure, The (1995)  0.310271\n",
              "49                      Dangerous Ground (1997)  0.310271\n",
              "50                                 Gordy (1995)  0.310271\n",
              "51                   I Like It Like That (1994)  0.310271\n",
              "52                    Jefferson in Paris (1995)  0.310271\n",
              "53                             My Family (1995)  0.310271\n",
              "54                      Nothing Personal (1995)  0.310271\n",
              "55                        Poetic Justice (1993)  0.310271\n",
              "56                              Reckless (1995)  0.310271\n",
              "57                            Rent-a-Kid (1995)  0.310271\n",
              "58                   Spirits of the Dead (1968)  0.310271\n",
              "59                          Three Wishes (1995)  0.310271"
            ],
            "text/html": [
              "\n",
              "  <div id=\"df-105a0db9-93dc-4170-9c55-fc82d37041d1\">\n",
              "    <div class=\"colab-df-container\">\n",
              "      <div>\n",
              "<style scoped>\n",
              "    .dataframe tbody tr th:only-of-type {\n",
              "        vertical-align: middle;\n",
              "    }\n",
              "\n",
              "    .dataframe tbody tr th {\n",
              "        vertical-align: top;\n",
              "    }\n",
              "\n",
              "    .dataframe thead th {\n",
              "        text-align: right;\n",
              "    }\n",
              "</style>\n",
              "<table border=\"1\" class=\"dataframe\">\n",
              "  <thead>\n",
              "    <tr style=\"text-align: right;\">\n",
              "      <th></th>\n",
              "      <th>movie</th>\n",
              "      <th>score</th>\n",
              "    </tr>\n",
              "  </thead>\n",
              "  <tbody>\n",
              "    <tr>\n",
              "      <th>0</th>\n",
              "      <td>Bridget Jones's Diary (2001)</td>\n",
              "      <td>0.533963</td>\n",
              "    </tr>\n",
              "    <tr>\n",
              "      <th>1</th>\n",
              "      <td>Priceless (Hors de prix) (2006)</td>\n",
              "      <td>0.522125</td>\n",
              "    </tr>\n",
              "    <tr>\n",
              "      <th>2</th>\n",
              "      <td>Speechless (1994)</td>\n",
              "      <td>0.507170</td>\n",
              "    </tr>\n",
              "    <tr>\n",
              "      <th>3</th>\n",
              "      <td>Mallrats (1995)</td>\n",
              "      <td>0.486892</td>\n",
              "    </tr>\n",
              "    <tr>\n",
              "      <th>4</th>\n",
              "      <td>Roommates (1995)</td>\n",
              "      <td>0.457311</td>\n",
              "    </tr>\n",
              "    <tr>\n",
              "      <th>5</th>\n",
              "      <td>Princess Mononoke (Mononoke-hime) (1997)</td>\n",
              "      <td>0.447869</td>\n",
              "    </tr>\n",
              "    <tr>\n",
              "      <th>6</th>\n",
              "      <td>General, The (1926)</td>\n",
              "      <td>0.434774</td>\n",
              "    </tr>\n",
              "    <tr>\n",
              "      <th>7</th>\n",
              "      <td>Breakfast at Tiffany's (1961)</td>\n",
              "      <td>0.422058</td>\n",
              "    </tr>\n",
              "    <tr>\n",
              "      <th>8</th>\n",
              "      <td>Lord of Illusions (1995)</td>\n",
              "      <td>0.410941</td>\n",
              "    </tr>\n",
              "    <tr>\n",
              "      <th>9</th>\n",
              "      <td>Valentine's Day (2010)</td>\n",
              "      <td>0.401128</td>\n",
              "    </tr>\n",
              "    <tr>\n",
              "      <th>10</th>\n",
              "      <td>Richard III (1995)</td>\n",
              "      <td>0.395290</td>\n",
              "    </tr>\n",
              "    <tr>\n",
              "      <th>11</th>\n",
              "      <td>Charlotte's Web (1973)</td>\n",
              "      <td>0.384728</td>\n",
              "    </tr>\n",
              "    <tr>\n",
              "      <th>12</th>\n",
              "      <td>(500) Days of Summer (2009)</td>\n",
              "      <td>0.369829</td>\n",
              "    </tr>\n",
              "    <tr>\n",
              "      <th>13</th>\n",
              "      <td>20 Dates (1998)</td>\n",
              "      <td>0.361809</td>\n",
              "    </tr>\n",
              "    <tr>\n",
              "      <th>14</th>\n",
              "      <td>With Honors (1994)</td>\n",
              "      <td>0.355781</td>\n",
              "    </tr>\n",
              "    <tr>\n",
              "      <th>15</th>\n",
              "      <td>When We Were Kings (1996)</td>\n",
              "      <td>0.345397</td>\n",
              "    </tr>\n",
              "    <tr>\n",
              "      <th>16</th>\n",
              "      <td>Fly Away Home (1996)</td>\n",
              "      <td>0.338312</td>\n",
              "    </tr>\n",
              "    <tr>\n",
              "      <th>17</th>\n",
              "      <td>Together (Tillsammans) (2000)</td>\n",
              "      <td>0.336279</td>\n",
              "    </tr>\n",
              "    <tr>\n",
              "      <th>18</th>\n",
              "      <td>Road to Perdition (2002)</td>\n",
              "      <td>0.335548</td>\n",
              "    </tr>\n",
              "    <tr>\n",
              "      <th>19</th>\n",
              "      <td>Crimes and Misdemeanors (1989)</td>\n",
              "      <td>0.333971</td>\n",
              "    </tr>\n",
              "    <tr>\n",
              "      <th>20</th>\n",
              "      <td>Safe (1995)</td>\n",
              "      <td>1.436479</td>\n",
              "    </tr>\n",
              "    <tr>\n",
              "      <th>21</th>\n",
              "      <td>Mr. Mom (1983)</td>\n",
              "      <td>1.292588</td>\n",
              "    </tr>\n",
              "    <tr>\n",
              "      <th>22</th>\n",
              "      <td>Program, The (1993)</td>\n",
              "      <td>1.285166</td>\n",
              "    </tr>\n",
              "    <tr>\n",
              "      <th>23</th>\n",
              "      <td>L.I.E. (2001)</td>\n",
              "      <td>1.278402</td>\n",
              "    </tr>\n",
              "    <tr>\n",
              "      <th>24</th>\n",
              "      <td>Sling Blade (1996)</td>\n",
              "      <td>1.265142</td>\n",
              "    </tr>\n",
              "    <tr>\n",
              "      <th>25</th>\n",
              "      <td>Tales from the Hood (1995)</td>\n",
              "      <td>1.264544</td>\n",
              "    </tr>\n",
              "    <tr>\n",
              "      <th>26</th>\n",
              "      <td>Match Point (2005)</td>\n",
              "      <td>1.242517</td>\n",
              "    </tr>\n",
              "    <tr>\n",
              "      <th>27</th>\n",
              "      <td>Dead Again (1991)</td>\n",
              "      <td>1.233744</td>\n",
              "    </tr>\n",
              "    <tr>\n",
              "      <th>28</th>\n",
              "      <td>2001: A Space Odyssey (1968)</td>\n",
              "      <td>1.232912</td>\n",
              "    </tr>\n",
              "    <tr>\n",
              "      <th>29</th>\n",
              "      <td>Muriel's Wedding (1994)</td>\n",
              "      <td>1.231663</td>\n",
              "    </tr>\n",
              "    <tr>\n",
              "      <th>30</th>\n",
              "      <td>Tank Girl (1995)</td>\n",
              "      <td>1.208204</td>\n",
              "    </tr>\n",
              "    <tr>\n",
              "      <th>31</th>\n",
              "      <td>Eat Drink Man Woman (Yin shi nan nu) (1994)</td>\n",
              "      <td>1.203306</td>\n",
              "    </tr>\n",
              "    <tr>\n",
              "      <th>32</th>\n",
              "      <td>Shaft (2000)</td>\n",
              "      <td>1.198530</td>\n",
              "    </tr>\n",
              "    <tr>\n",
              "      <th>33</th>\n",
              "      <td>Inside Job (2010)</td>\n",
              "      <td>1.195232</td>\n",
              "    </tr>\n",
              "    <tr>\n",
              "      <th>34</th>\n",
              "      <td>Hobbit: The Desolation of Smaug, The (2013)</td>\n",
              "      <td>1.190717</td>\n",
              "    </tr>\n",
              "    <tr>\n",
              "      <th>35</th>\n",
              "      <td>Somebody to Love (1994)</td>\n",
              "      <td>1.188026</td>\n",
              "    </tr>\n",
              "    <tr>\n",
              "      <th>36</th>\n",
              "      <td>King of Comedy, The (1983)</td>\n",
              "      <td>1.179470</td>\n",
              "    </tr>\n",
              "    <tr>\n",
              "      <th>37</th>\n",
              "      <td>Escape to Witch Mountain (1975)</td>\n",
              "      <td>1.170227</td>\n",
              "    </tr>\n",
              "    <tr>\n",
              "      <th>38</th>\n",
              "      <td>Terminal, The (2004)</td>\n",
              "      <td>1.162897</td>\n",
              "    </tr>\n",
              "    <tr>\n",
              "      <th>39</th>\n",
              "      <td>Moulin Rouge (2001)</td>\n",
              "      <td>1.162203</td>\n",
              "    </tr>\n",
              "    <tr>\n",
              "      <th>40</th>\n",
              "      <td>Simple Twist of Fate, A (1994)</td>\n",
              "      <td>1.499419</td>\n",
              "    </tr>\n",
              "    <tr>\n",
              "      <th>41</th>\n",
              "      <td>Before and After (1996)</td>\n",
              "      <td>1.498838</td>\n",
              "    </tr>\n",
              "    <tr>\n",
              "      <th>42</th>\n",
              "      <td>Showgirls (1995)</td>\n",
              "      <td>0.718141</td>\n",
              "    </tr>\n",
              "    <tr>\n",
              "      <th>43</th>\n",
              "      <td>Saturn 3 (1980)</td>\n",
              "      <td>0.569695</td>\n",
              "    </tr>\n",
              "    <tr>\n",
              "      <th>44</th>\n",
              "      <td>Michael Collins (1996)</td>\n",
              "      <td>0.362096</td>\n",
              "    </tr>\n",
              "    <tr>\n",
              "      <th>45</th>\n",
              "      <td>Cops and Robbersons (1994)</td>\n",
              "      <td>0.347776</td>\n",
              "    </tr>\n",
              "    <tr>\n",
              "      <th>46</th>\n",
              "      <td>High Noon (1952)</td>\n",
              "      <td>0.347495</td>\n",
              "    </tr>\n",
              "    <tr>\n",
              "      <th>47</th>\n",
              "      <td>Mad Max (1979)</td>\n",
              "      <td>0.312743</td>\n",
              "    </tr>\n",
              "    <tr>\n",
              "      <th>48</th>\n",
              "      <td>Cure, The (1995)</td>\n",
              "      <td>0.310271</td>\n",
              "    </tr>\n",
              "    <tr>\n",
              "      <th>49</th>\n",
              "      <td>Dangerous Ground (1997)</td>\n",
              "      <td>0.310271</td>\n",
              "    </tr>\n",
              "    <tr>\n",
              "      <th>50</th>\n",
              "      <td>Gordy (1995)</td>\n",
              "      <td>0.310271</td>\n",
              "    </tr>\n",
              "    <tr>\n",
              "      <th>51</th>\n",
              "      <td>I Like It Like That (1994)</td>\n",
              "      <td>0.310271</td>\n",
              "    </tr>\n",
              "    <tr>\n",
              "      <th>52</th>\n",
              "      <td>Jefferson in Paris (1995)</td>\n",
              "      <td>0.310271</td>\n",
              "    </tr>\n",
              "    <tr>\n",
              "      <th>53</th>\n",
              "      <td>My Family (1995)</td>\n",
              "      <td>0.310271</td>\n",
              "    </tr>\n",
              "    <tr>\n",
              "      <th>54</th>\n",
              "      <td>Nothing Personal (1995)</td>\n",
              "      <td>0.310271</td>\n",
              "    </tr>\n",
              "    <tr>\n",
              "      <th>55</th>\n",
              "      <td>Poetic Justice (1993)</td>\n",
              "      <td>0.310271</td>\n",
              "    </tr>\n",
              "    <tr>\n",
              "      <th>56</th>\n",
              "      <td>Reckless (1995)</td>\n",
              "      <td>0.310271</td>\n",
              "    </tr>\n",
              "    <tr>\n",
              "      <th>57</th>\n",
              "      <td>Rent-a-Kid (1995)</td>\n",
              "      <td>0.310271</td>\n",
              "    </tr>\n",
              "    <tr>\n",
              "      <th>58</th>\n",
              "      <td>Spirits of the Dead (1968)</td>\n",
              "      <td>0.310271</td>\n",
              "    </tr>\n",
              "    <tr>\n",
              "      <th>59</th>\n",
              "      <td>Three Wishes (1995)</td>\n",
              "      <td>0.310271</td>\n",
              "    </tr>\n",
              "  </tbody>\n",
              "</table>\n",
              "</div>\n",
              "      <button class=\"colab-df-convert\" onclick=\"convertToInteractive('df-105a0db9-93dc-4170-9c55-fc82d37041d1')\"\n",
              "              title=\"Convert this dataframe to an interactive table.\"\n",
              "              style=\"display:none;\">\n",
              "        \n",
              "  <svg xmlns=\"http://www.w3.org/2000/svg\" height=\"24px\"viewBox=\"0 0 24 24\"\n",
              "       width=\"24px\">\n",
              "    <path d=\"M0 0h24v24H0V0z\" fill=\"none\"/>\n",
              "    <path d=\"M18.56 5.44l.94 2.06.94-2.06 2.06-.94-2.06-.94-.94-2.06-.94 2.06-2.06.94zm-11 1L8.5 8.5l.94-2.06 2.06-.94-2.06-.94L8.5 2.5l-.94 2.06-2.06.94zm10 10l.94 2.06.94-2.06 2.06-.94-2.06-.94-.94-2.06-.94 2.06-2.06.94z\"/><path d=\"M17.41 7.96l-1.37-1.37c-.4-.4-.92-.59-1.43-.59-.52 0-1.04.2-1.43.59L10.3 9.45l-7.72 7.72c-.78.78-.78 2.05 0 2.83L4 21.41c.39.39.9.59 1.41.59.51 0 1.02-.2 1.41-.59l7.78-7.78 2.81-2.81c.8-.78.8-2.07 0-2.86zM5.41 20L4 18.59l7.72-7.72 1.47 1.35L5.41 20z\"/>\n",
              "  </svg>\n",
              "      </button>\n",
              "      \n",
              "  <style>\n",
              "    .colab-df-container {\n",
              "      display:flex;\n",
              "      flex-wrap:wrap;\n",
              "      gap: 12px;\n",
              "    }\n",
              "\n",
              "    .colab-df-convert {\n",
              "      background-color: #E8F0FE;\n",
              "      border: none;\n",
              "      border-radius: 50%;\n",
              "      cursor: pointer;\n",
              "      display: none;\n",
              "      fill: #1967D2;\n",
              "      height: 32px;\n",
              "      padding: 0 0 0 0;\n",
              "      width: 32px;\n",
              "    }\n",
              "\n",
              "    .colab-df-convert:hover {\n",
              "      background-color: #E2EBFA;\n",
              "      box-shadow: 0px 1px 2px rgba(60, 64, 67, 0.3), 0px 1px 3px 1px rgba(60, 64, 67, 0.15);\n",
              "      fill: #174EA6;\n",
              "    }\n",
              "\n",
              "    [theme=dark] .colab-df-convert {\n",
              "      background-color: #3B4455;\n",
              "      fill: #D2E3FC;\n",
              "    }\n",
              "\n",
              "    [theme=dark] .colab-df-convert:hover {\n",
              "      background-color: #434B5C;\n",
              "      box-shadow: 0px 1px 3px 1px rgba(0, 0, 0, 0.15);\n",
              "      filter: drop-shadow(0px 1px 2px rgba(0, 0, 0, 0.3));\n",
              "      fill: #FFFFFF;\n",
              "    }\n",
              "  </style>\n",
              "\n",
              "      <script>\n",
              "        const buttonEl =\n",
              "          document.querySelector('#df-105a0db9-93dc-4170-9c55-fc82d37041d1 button.colab-df-convert');\n",
              "        buttonEl.style.display =\n",
              "          google.colab.kernel.accessAllowed ? 'block' : 'none';\n",
              "\n",
              "        async function convertToInteractive(key) {\n",
              "          const element = document.querySelector('#df-105a0db9-93dc-4170-9c55-fc82d37041d1');\n",
              "          const dataTable =\n",
              "            await google.colab.kernel.invokeFunction('convertToInteractive',\n",
              "                                                     [key], {});\n",
              "          if (!dataTable) return;\n",
              "\n",
              "          const docLinkHtml = 'Like what you see? Visit the ' +\n",
              "            '<a target=\"_blank\" href=https://colab.research.google.com/notebooks/data_table.ipynb>data table notebook</a>'\n",
              "            + ' to learn more about interactive tables.';\n",
              "          element.innerHTML = '';\n",
              "          dataTable['output_type'] = 'display_data';\n",
              "          await google.colab.output.renderOutput(dataTable, element);\n",
              "          const docLink = document.createElement('div');\n",
              "          docLink.innerHTML = docLinkHtml;\n",
              "          element.appendChild(docLink);\n",
              "        }\n",
              "      </script>\n",
              "    </div>\n",
              "  </div>\n",
              "  "
            ]
          },
          "metadata": {},
          "execution_count": 26
        }
      ]
    },
    {
      "cell_type": "markdown",
      "source": [
        "Because alpha is really low from iteration 1 (0.06) for this iteration we will keep using the average mean method"
      ],
      "metadata": {
        "id": "nfhckGun53Eg"
      }
    },
    {
      "cell_type": "code",
      "source": [
        "#using the average aggregation\n",
        "df_mean = group_movies_df_iter2.groupby(['movie']).mean()\n",
        "recommendations_for_3 = df_mean.sort_values(by=['score'], ascending=False)\n",
        "recommendations_for_3[\"score\"] = recommendations_for_3[\"score\"] * (1 - 0.0640479459038612)"
      ],
      "metadata": {
        "id": "hXUeksmM5_Ge"
      },
      "execution_count": null,
      "outputs": []
    },
    {
      "cell_type": "code",
      "source": [
        "recommendations_for_3"
      ],
      "metadata": {
        "colab": {
          "base_uri": "https://localhost:8080/",
          "height": 1000
        },
        "id": "-M_wYSNKCfiw",
        "outputId": "0a0f9a42-26bd-4370-fd6c-dc11b5cb9f29"
      },
      "execution_count": null,
      "outputs": [
        {
          "output_type": "execute_result",
          "data": {
            "text/plain": [
              "                                                score\n",
              "movie                                                \n",
              "Simple Twist of Fate, A (1994)               1.403384\n",
              "Before and After (1996)                      1.402841\n",
              "Safe (1995)                                  1.344475\n",
              "Mr. Mom (1983)                               1.209800\n",
              "Program, The (1993)                          1.202854\n",
              "L.I.E. (2001)                                1.196523\n",
              "Sling Blade (1996)                           1.184112\n",
              "Tales from the Hood (1995)                   1.183553\n",
              "Match Point (2005)                           1.162936\n",
              "Dead Again (1991)                            1.154725\n",
              "2001: A Space Odyssey (1968)                 1.153947\n",
              "Muriel's Wedding (1994)                      1.152778\n",
              "Tank Girl (1995)                             1.130821\n",
              "Eat Drink Man Woman (Yin shi nan nu) (1994)  1.126237\n",
              "Shaft (2000)                                 1.121767\n",
              "Inside Job (2010)                            1.118680\n",
              "Hobbit: The Desolation of Smaug, The (2013)  1.114454\n",
              "Somebody to Love (1994)                      1.111935\n",
              "King of Comedy, The (1983)                   1.103927\n",
              "Escape to Witch Mountain (1975)              1.095276\n",
              "Terminal, The (2004)                         1.088416\n",
              "Moulin Rouge (2001)                          1.087766\n",
              "Showgirls (1995)                             0.672146\n",
              "Saturn 3 (1980)                              0.533207\n",
              "Bridget Jones's Diary (2001)                 0.499764\n",
              "Priceless (Hors de prix) (2006)              0.488684\n",
              "Speechless (1994)                            0.474687\n",
              "Mallrats (1995)                              0.455708\n",
              "Roommates (1995)                             0.428021\n",
              "Princess Mononoke (Mononoke-hime) (1997)     0.419184\n",
              "General, The (1926)                          0.406928\n",
              "Breakfast at Tiffany's (1961)                0.395026\n",
              "Lord of Illusions (1995)                     0.384621\n",
              "Valentine's Day (2010)                       0.375437\n",
              "Richard III (1995)                           0.369972\n",
              "Charlotte's Web (1973)                       0.360087\n",
              "(500) Days of Summer (2009)                  0.346142\n",
              "Michael Collins (1996)                       0.338904\n",
              "20 Dates (1998)                              0.338636\n",
              "With Honors (1994)                           0.332994\n",
              "Cops and Robbersons (1994)                   0.325502\n",
              "High Noon (1952)                             0.325239\n",
              "When We Were Kings (1996)                    0.323275\n",
              "Fly Away Home (1996)                         0.316644\n",
              "Together (Tillsammans) (2000)                0.314741\n",
              "Road to Perdition (2002)                     0.314057\n",
              "Crimes and Misdemeanors (1989)               0.312581\n",
              "Mad Max (1979)                               0.292712\n",
              "My Family (1995)                             0.290399\n",
              "Cure, The (1995)                             0.290399\n",
              "Rent-a-Kid (1995)                            0.290399\n",
              "Three Wishes (1995)                          0.290399\n",
              "Spirits of the Dead (1968)                   0.290399\n",
              "Dangerous Ground (1997)                      0.290399\n",
              "Gordy (1995)                                 0.290399\n",
              "Reckless (1995)                              0.290399\n",
              "I Like It Like That (1994)                   0.290399\n",
              "Jefferson in Paris (1995)                    0.290399\n",
              "Nothing Personal (1995)                      0.290399\n",
              "Poetic Justice (1993)                        0.290399"
            ],
            "text/html": [
              "\n",
              "  <div id=\"df-801e21c7-9c6a-406a-b818-26b6c53e6e1d\">\n",
              "    <div class=\"colab-df-container\">\n",
              "      <div>\n",
              "<style scoped>\n",
              "    .dataframe tbody tr th:only-of-type {\n",
              "        vertical-align: middle;\n",
              "    }\n",
              "\n",
              "    .dataframe tbody tr th {\n",
              "        vertical-align: top;\n",
              "    }\n",
              "\n",
              "    .dataframe thead th {\n",
              "        text-align: right;\n",
              "    }\n",
              "</style>\n",
              "<table border=\"1\" class=\"dataframe\">\n",
              "  <thead>\n",
              "    <tr style=\"text-align: right;\">\n",
              "      <th></th>\n",
              "      <th>score</th>\n",
              "    </tr>\n",
              "    <tr>\n",
              "      <th>movie</th>\n",
              "      <th></th>\n",
              "    </tr>\n",
              "  </thead>\n",
              "  <tbody>\n",
              "    <tr>\n",
              "      <th>Simple Twist of Fate, A (1994)</th>\n",
              "      <td>1.403384</td>\n",
              "    </tr>\n",
              "    <tr>\n",
              "      <th>Before and After (1996)</th>\n",
              "      <td>1.402841</td>\n",
              "    </tr>\n",
              "    <tr>\n",
              "      <th>Safe (1995)</th>\n",
              "      <td>1.344475</td>\n",
              "    </tr>\n",
              "    <tr>\n",
              "      <th>Mr. Mom (1983)</th>\n",
              "      <td>1.209800</td>\n",
              "    </tr>\n",
              "    <tr>\n",
              "      <th>Program, The (1993)</th>\n",
              "      <td>1.202854</td>\n",
              "    </tr>\n",
              "    <tr>\n",
              "      <th>L.I.E. (2001)</th>\n",
              "      <td>1.196523</td>\n",
              "    </tr>\n",
              "    <tr>\n",
              "      <th>Sling Blade (1996)</th>\n",
              "      <td>1.184112</td>\n",
              "    </tr>\n",
              "    <tr>\n",
              "      <th>Tales from the Hood (1995)</th>\n",
              "      <td>1.183553</td>\n",
              "    </tr>\n",
              "    <tr>\n",
              "      <th>Match Point (2005)</th>\n",
              "      <td>1.162936</td>\n",
              "    </tr>\n",
              "    <tr>\n",
              "      <th>Dead Again (1991)</th>\n",
              "      <td>1.154725</td>\n",
              "    </tr>\n",
              "    <tr>\n",
              "      <th>2001: A Space Odyssey (1968)</th>\n",
              "      <td>1.153947</td>\n",
              "    </tr>\n",
              "    <tr>\n",
              "      <th>Muriel's Wedding (1994)</th>\n",
              "      <td>1.152778</td>\n",
              "    </tr>\n",
              "    <tr>\n",
              "      <th>Tank Girl (1995)</th>\n",
              "      <td>1.130821</td>\n",
              "    </tr>\n",
              "    <tr>\n",
              "      <th>Eat Drink Man Woman (Yin shi nan nu) (1994)</th>\n",
              "      <td>1.126237</td>\n",
              "    </tr>\n",
              "    <tr>\n",
              "      <th>Shaft (2000)</th>\n",
              "      <td>1.121767</td>\n",
              "    </tr>\n",
              "    <tr>\n",
              "      <th>Inside Job (2010)</th>\n",
              "      <td>1.118680</td>\n",
              "    </tr>\n",
              "    <tr>\n",
              "      <th>Hobbit: The Desolation of Smaug, The (2013)</th>\n",
              "      <td>1.114454</td>\n",
              "    </tr>\n",
              "    <tr>\n",
              "      <th>Somebody to Love (1994)</th>\n",
              "      <td>1.111935</td>\n",
              "    </tr>\n",
              "    <tr>\n",
              "      <th>King of Comedy, The (1983)</th>\n",
              "      <td>1.103927</td>\n",
              "    </tr>\n",
              "    <tr>\n",
              "      <th>Escape to Witch Mountain (1975)</th>\n",
              "      <td>1.095276</td>\n",
              "    </tr>\n",
              "    <tr>\n",
              "      <th>Terminal, The (2004)</th>\n",
              "      <td>1.088416</td>\n",
              "    </tr>\n",
              "    <tr>\n",
              "      <th>Moulin Rouge (2001)</th>\n",
              "      <td>1.087766</td>\n",
              "    </tr>\n",
              "    <tr>\n",
              "      <th>Showgirls (1995)</th>\n",
              "      <td>0.672146</td>\n",
              "    </tr>\n",
              "    <tr>\n",
              "      <th>Saturn 3 (1980)</th>\n",
              "      <td>0.533207</td>\n",
              "    </tr>\n",
              "    <tr>\n",
              "      <th>Bridget Jones's Diary (2001)</th>\n",
              "      <td>0.499764</td>\n",
              "    </tr>\n",
              "    <tr>\n",
              "      <th>Priceless (Hors de prix) (2006)</th>\n",
              "      <td>0.488684</td>\n",
              "    </tr>\n",
              "    <tr>\n",
              "      <th>Speechless (1994)</th>\n",
              "      <td>0.474687</td>\n",
              "    </tr>\n",
              "    <tr>\n",
              "      <th>Mallrats (1995)</th>\n",
              "      <td>0.455708</td>\n",
              "    </tr>\n",
              "    <tr>\n",
              "      <th>Roommates (1995)</th>\n",
              "      <td>0.428021</td>\n",
              "    </tr>\n",
              "    <tr>\n",
              "      <th>Princess Mononoke (Mononoke-hime) (1997)</th>\n",
              "      <td>0.419184</td>\n",
              "    </tr>\n",
              "    <tr>\n",
              "      <th>General, The (1926)</th>\n",
              "      <td>0.406928</td>\n",
              "    </tr>\n",
              "    <tr>\n",
              "      <th>Breakfast at Tiffany's (1961)</th>\n",
              "      <td>0.395026</td>\n",
              "    </tr>\n",
              "    <tr>\n",
              "      <th>Lord of Illusions (1995)</th>\n",
              "      <td>0.384621</td>\n",
              "    </tr>\n",
              "    <tr>\n",
              "      <th>Valentine's Day (2010)</th>\n",
              "      <td>0.375437</td>\n",
              "    </tr>\n",
              "    <tr>\n",
              "      <th>Richard III (1995)</th>\n",
              "      <td>0.369972</td>\n",
              "    </tr>\n",
              "    <tr>\n",
              "      <th>Charlotte's Web (1973)</th>\n",
              "      <td>0.360087</td>\n",
              "    </tr>\n",
              "    <tr>\n",
              "      <th>(500) Days of Summer (2009)</th>\n",
              "      <td>0.346142</td>\n",
              "    </tr>\n",
              "    <tr>\n",
              "      <th>Michael Collins (1996)</th>\n",
              "      <td>0.338904</td>\n",
              "    </tr>\n",
              "    <tr>\n",
              "      <th>20 Dates (1998)</th>\n",
              "      <td>0.338636</td>\n",
              "    </tr>\n",
              "    <tr>\n",
              "      <th>With Honors (1994)</th>\n",
              "      <td>0.332994</td>\n",
              "    </tr>\n",
              "    <tr>\n",
              "      <th>Cops and Robbersons (1994)</th>\n",
              "      <td>0.325502</td>\n",
              "    </tr>\n",
              "    <tr>\n",
              "      <th>High Noon (1952)</th>\n",
              "      <td>0.325239</td>\n",
              "    </tr>\n",
              "    <tr>\n",
              "      <th>When We Were Kings (1996)</th>\n",
              "      <td>0.323275</td>\n",
              "    </tr>\n",
              "    <tr>\n",
              "      <th>Fly Away Home (1996)</th>\n",
              "      <td>0.316644</td>\n",
              "    </tr>\n",
              "    <tr>\n",
              "      <th>Together (Tillsammans) (2000)</th>\n",
              "      <td>0.314741</td>\n",
              "    </tr>\n",
              "    <tr>\n",
              "      <th>Road to Perdition (2002)</th>\n",
              "      <td>0.314057</td>\n",
              "    </tr>\n",
              "    <tr>\n",
              "      <th>Crimes and Misdemeanors (1989)</th>\n",
              "      <td>0.312581</td>\n",
              "    </tr>\n",
              "    <tr>\n",
              "      <th>Mad Max (1979)</th>\n",
              "      <td>0.292712</td>\n",
              "    </tr>\n",
              "    <tr>\n",
              "      <th>My Family (1995)</th>\n",
              "      <td>0.290399</td>\n",
              "    </tr>\n",
              "    <tr>\n",
              "      <th>Cure, The (1995)</th>\n",
              "      <td>0.290399</td>\n",
              "    </tr>\n",
              "    <tr>\n",
              "      <th>Rent-a-Kid (1995)</th>\n",
              "      <td>0.290399</td>\n",
              "    </tr>\n",
              "    <tr>\n",
              "      <th>Three Wishes (1995)</th>\n",
              "      <td>0.290399</td>\n",
              "    </tr>\n",
              "    <tr>\n",
              "      <th>Spirits of the Dead (1968)</th>\n",
              "      <td>0.290399</td>\n",
              "    </tr>\n",
              "    <tr>\n",
              "      <th>Dangerous Ground (1997)</th>\n",
              "      <td>0.290399</td>\n",
              "    </tr>\n",
              "    <tr>\n",
              "      <th>Gordy (1995)</th>\n",
              "      <td>0.290399</td>\n",
              "    </tr>\n",
              "    <tr>\n",
              "      <th>Reckless (1995)</th>\n",
              "      <td>0.290399</td>\n",
              "    </tr>\n",
              "    <tr>\n",
              "      <th>I Like It Like That (1994)</th>\n",
              "      <td>0.290399</td>\n",
              "    </tr>\n",
              "    <tr>\n",
              "      <th>Jefferson in Paris (1995)</th>\n",
              "      <td>0.290399</td>\n",
              "    </tr>\n",
              "    <tr>\n",
              "      <th>Nothing Personal (1995)</th>\n",
              "      <td>0.290399</td>\n",
              "    </tr>\n",
              "    <tr>\n",
              "      <th>Poetic Justice (1993)</th>\n",
              "      <td>0.290399</td>\n",
              "    </tr>\n",
              "  </tbody>\n",
              "</table>\n",
              "</div>\n",
              "      <button class=\"colab-df-convert\" onclick=\"convertToInteractive('df-801e21c7-9c6a-406a-b818-26b6c53e6e1d')\"\n",
              "              title=\"Convert this dataframe to an interactive table.\"\n",
              "              style=\"display:none;\">\n",
              "        \n",
              "  <svg xmlns=\"http://www.w3.org/2000/svg\" height=\"24px\"viewBox=\"0 0 24 24\"\n",
              "       width=\"24px\">\n",
              "    <path d=\"M0 0h24v24H0V0z\" fill=\"none\"/>\n",
              "    <path d=\"M18.56 5.44l.94 2.06.94-2.06 2.06-.94-2.06-.94-.94-2.06-.94 2.06-2.06.94zm-11 1L8.5 8.5l.94-2.06 2.06-.94-2.06-.94L8.5 2.5l-.94 2.06-2.06.94zm10 10l.94 2.06.94-2.06 2.06-.94-2.06-.94-.94-2.06-.94 2.06-2.06.94z\"/><path d=\"M17.41 7.96l-1.37-1.37c-.4-.4-.92-.59-1.43-.59-.52 0-1.04.2-1.43.59L10.3 9.45l-7.72 7.72c-.78.78-.78 2.05 0 2.83L4 21.41c.39.39.9.59 1.41.59.51 0 1.02-.2 1.41-.59l7.78-7.78 2.81-2.81c.8-.78.8-2.07 0-2.86zM5.41 20L4 18.59l7.72-7.72 1.47 1.35L5.41 20z\"/>\n",
              "  </svg>\n",
              "      </button>\n",
              "      \n",
              "  <style>\n",
              "    .colab-df-container {\n",
              "      display:flex;\n",
              "      flex-wrap:wrap;\n",
              "      gap: 12px;\n",
              "    }\n",
              "\n",
              "    .colab-df-convert {\n",
              "      background-color: #E8F0FE;\n",
              "      border: none;\n",
              "      border-radius: 50%;\n",
              "      cursor: pointer;\n",
              "      display: none;\n",
              "      fill: #1967D2;\n",
              "      height: 32px;\n",
              "      padding: 0 0 0 0;\n",
              "      width: 32px;\n",
              "    }\n",
              "\n",
              "    .colab-df-convert:hover {\n",
              "      background-color: #E2EBFA;\n",
              "      box-shadow: 0px 1px 2px rgba(60, 64, 67, 0.3), 0px 1px 3px 1px rgba(60, 64, 67, 0.15);\n",
              "      fill: #174EA6;\n",
              "    }\n",
              "\n",
              "    [theme=dark] .colab-df-convert {\n",
              "      background-color: #3B4455;\n",
              "      fill: #D2E3FC;\n",
              "    }\n",
              "\n",
              "    [theme=dark] .colab-df-convert:hover {\n",
              "      background-color: #434B5C;\n",
              "      box-shadow: 0px 1px 3px 1px rgba(0, 0, 0, 0.15);\n",
              "      filter: drop-shadow(0px 1px 2px rgba(0, 0, 0, 0.3));\n",
              "      fill: #FFFFFF;\n",
              "    }\n",
              "  </style>\n",
              "\n",
              "      <script>\n",
              "        const buttonEl =\n",
              "          document.querySelector('#df-801e21c7-9c6a-406a-b818-26b6c53e6e1d button.colab-df-convert');\n",
              "        buttonEl.style.display =\n",
              "          google.colab.kernel.accessAllowed ? 'block' : 'none';\n",
              "\n",
              "        async function convertToInteractive(key) {\n",
              "          const element = document.querySelector('#df-801e21c7-9c6a-406a-b818-26b6c53e6e1d');\n",
              "          const dataTable =\n",
              "            await google.colab.kernel.invokeFunction('convertToInteractive',\n",
              "                                                     [key], {});\n",
              "          if (!dataTable) return;\n",
              "\n",
              "          const docLinkHtml = 'Like what you see? Visit the ' +\n",
              "            '<a target=\"_blank\" href=https://colab.research.google.com/notebooks/data_table.ipynb>data table notebook</a>'\n",
              "            + ' to learn more about interactive tables.';\n",
              "          element.innerHTML = '';\n",
              "          dataTable['output_type'] = 'display_data';\n",
              "          await google.colab.output.renderOutput(dataTable, element);\n",
              "          const docLink = document.createElement('div');\n",
              "          docLink.innerHTML = docLinkHtml;\n",
              "          element.appendChild(docLink);\n",
              "        }\n",
              "      </script>\n",
              "    </div>\n",
              "  </div>\n",
              "  "
            ]
          },
          "metadata": {},
          "execution_count": 28
        }
      ]
    },
    {
      "cell_type": "code",
      "source": [
        "recommendations_for_3_list = recommendations_for_3['score'].values.tolist()\n",
        "recommendations_for_3_list_top20 = recommendations_for_3_list[:20]"
      ],
      "metadata": {
        "id": "hW90rh666Ddd"
      },
      "execution_count": null,
      "outputs": []
    },
    {
      "cell_type": "code",
      "source": [
        "#get satisfaction score of first iteration\n",
        "satA1, satB1, satC1, alpha1, group_sat1= alpha_score(recommended_movies_user_110_df_list, recommended_movies_user_250_df_list, recommended_movies_user_401_df_list, recommendations_for_3_list_top20)"
      ],
      "metadata": {
        "id": "lIOTXd8X6ECz"
      },
      "execution_count": null,
      "outputs": []
    },
    {
      "cell_type": "code",
      "source": [
        "satA1, satB1, satC1, alpha1, group_sat1"
      ],
      "metadata": {
        "colab": {
          "base_uri": "https://localhost:8080/"
        },
        "id": "1GZLMSJN6JrH",
        "outputId": "abd123fa-fb8f-4227-d212-7a0344840e4d"
      },
      "execution_count": null,
      "outputs": [
        {
          "output_type": "execute_result",
          "data": {
            "text/plain": [
              "(2.8938416716817144,\n",
              " 0.9615406931233097,\n",
              " 2.5241365450679862,\n",
              " 0.0640479459038612,\n",
              " 2.1265063032910034)"
            ]
          },
          "metadata": {},
          "execution_count": 31
        }
      ]
    },
    {
      "cell_type": "markdown",
      "source": [
        "As you can see, in iteration 2, the reason our alpha and satisfaction are the ssame becaue even if we add new chunk of data our functions still return the same list of recommended movies :( "
      ],
      "metadata": {
        "id": "PcVIJ3Ps6OAc"
      }
    },
    {
      "cell_type": "markdown",
      "source": [
        "# Iteration 3"
      ],
      "metadata": {
        "id": "eCrRqXWB69Yt"
      }
    },
    {
      "cell_type": "code",
      "source": [
        "print(sorted(chunks[0][\"userId\"].unique()))\n",
        "print(sorted(mini_chunks[0][\"userId\"].unique()))\n",
        "print(sorted(mini_chunks[1][\"userId\"].unique()))\n",
        "print(sorted(mini_chunks[2][\"userId\"].unique()))\n",
        "print(sorted(mini_chunks[3][\"userId\"].unique()))"
      ],
      "metadata": {
        "colab": {
          "base_uri": "https://localhost:8080/"
        },
        "id": "BOgGmDP768Y-",
        "outputId": "0cec5bd5-30c0-455e-d64e-44f94b84a781"
      },
      "execution_count": null,
      "outputs": [
        {
          "output_type": "stream",
          "name": "stdout",
          "text": [
            "[1, 2, 3, 4, 5, 6, 7, 8, 9, 10, 11, 12, 13, 14, 15, 16, 17, 18, 19, 20, 21, 22, 23, 24, 25, 26, 27, 28, 29, 30, 31, 32, 33, 34, 35, 36, 37, 38, 39, 40, 41, 42, 43, 44, 45, 46, 47, 48, 49, 50, 51, 52, 53, 54, 55, 56, 57, 58, 59, 60, 61, 62, 63, 64, 65, 66, 67, 68, 69, 70, 71, 72, 73, 74, 75, 76, 77, 78, 79, 80, 81, 82, 83, 84, 85, 86, 87, 88, 89, 90, 91, 92, 93, 94, 95, 96, 97, 98, 99, 100, 101, 102, 103, 104, 105, 106, 107, 108, 109, 110, 111, 112, 113, 114, 115, 116, 117, 118, 119, 120, 121, 122, 123, 124, 125, 126, 127, 128, 129, 130, 131, 132, 133, 134, 135, 136, 137, 138, 139, 140, 141, 142, 143, 144, 145, 146, 147, 148, 149, 150, 151, 152, 153, 154, 155, 156, 157, 158, 159, 160, 161, 162, 163, 164, 165, 166, 167, 168, 169, 170, 171, 172, 173, 174, 175, 176, 177, 178, 179, 180, 181, 182, 183, 184, 185, 186, 187, 188, 189, 190, 191, 192, 193, 194, 195, 196, 197, 198, 199, 200, 201, 202, 203, 204, 205, 206, 207, 208, 209, 210, 211, 212, 213, 214, 215, 216, 217, 218, 219, 220, 221, 222, 223, 224, 225, 226, 227, 228, 229, 230, 231, 232, 233, 234, 235, 236, 237, 238, 239, 240, 241, 242, 243, 244, 245, 246, 247, 248, 249, 250, 251, 252, 253, 254, 255, 256, 257, 258, 259, 260, 261, 262, 263, 264, 265, 266, 267, 268, 269, 270, 271, 272, 273, 274, 275, 276, 277, 278, 279, 280, 281, 282, 283, 284, 285, 286, 287, 288, 289, 290, 291, 292, 293, 294, 295, 296, 297, 298, 299, 300, 301, 302, 303, 304, 305, 306, 307, 308, 309, 310, 311, 312, 313, 314, 315, 316, 317, 318, 319, 320, 321, 322, 323, 324, 325, 326, 327, 328, 329, 330, 331, 332, 333, 334, 335, 336, 337, 338, 339, 340, 341, 342, 343, 344, 345, 346, 347, 348, 349, 350, 351, 352, 353, 354, 355, 356, 357, 358, 359, 360, 361, 362, 363, 364, 365, 366, 367, 368, 369, 370, 371, 372, 373, 374, 375, 376, 377, 378, 379, 380, 381, 382, 383, 384, 385, 386, 387, 388, 389, 390, 391, 392, 393, 394, 395, 396, 397, 398, 399, 400, 401, 402, 403, 404, 405, 406, 407, 408, 409, 410, 411, 412, 413, 414, 415, 416, 417, 418, 419, 420, 421, 422, 423, 424, 425, 426, 427, 428, 429, 430, 431, 432, 433, 434, 435, 436, 437, 438, 439, 440, 441, 442, 443, 444, 445, 446, 447, 448, 449, 450, 451, 452, 453, 454, 455, 456, 457, 458, 459, 460, 461, 462, 463, 464, 465, 466, 467, 468, 469, 470, 471, 472, 473, 474, 475, 476, 477, 478, 479, 480, 481, 482, 483, 484, 485, 486, 487, 488, 489, 490, 491, 492, 493, 494, 495, 496, 497, 498, 499, 500, 501, 502, 503, 504, 505, 506, 507, 508, 509, 510, 511, 512, 513, 514, 515, 516, 517, 518, 519, 520, 521, 522, 523, 524, 525, 526, 527, 528, 529, 530, 531, 532, 533, 534, 535, 536, 537, 538, 539, 540, 541, 542, 543, 544, 545, 546, 547, 548, 549, 550, 551, 552, 553, 554, 555, 556, 557, 558, 559, 560, 561, 562, 563, 564, 565, 566, 567, 568, 569, 570, 571, 572, 573, 574, 575, 576, 577, 578, 579, 580, 581, 582, 583, 584, 585, 586, 587, 588, 589, 590, 591, 592, 593, 594, 595, 596, 597, 598, 599, 600, 601, 602, 603, 604, 605, 606, 607, 608, 609, 610]\n",
            "[17, 18, 19, 20, 21, 22, 23, 24, 25, 27, 28, 29, 30, 31, 32, 33, 34, 36, 37, 38, 39, 40, 41, 42, 43, 44, 45, 46, 47, 48, 49, 50, 51, 52, 53, 54, 55, 56, 57, 58, 59, 60, 61, 62, 63, 64, 65, 66, 67, 68, 69, 70, 71, 72, 73, 74, 75, 76, 77, 78, 79, 80, 82, 83, 84, 85, 86, 87, 88, 89, 90, 91, 92, 93, 94, 95, 96, 97, 98, 99, 100, 101, 102, 103, 104, 105, 106, 108, 109, 110, 111, 112, 113, 114, 115, 116, 117, 118, 119, 120, 121, 122, 123, 124, 125, 127, 128, 129, 131, 132, 133, 134, 135, 136, 137, 138, 139, 140, 141, 143, 144, 146, 147, 148, 149, 150, 151, 152, 153, 154, 155, 156, 157, 158, 159, 160, 161, 163, 164, 165, 166, 167, 168, 169, 170, 171, 172, 174, 175, 177, 178, 179, 180, 181, 182, 183, 184, 185, 186, 187, 188, 190, 191, 193, 194, 195, 196, 197, 198, 199, 200, 201, 202, 203, 204, 205, 206, 207, 208, 209, 210, 211, 212, 213, 214, 215, 216, 217, 218, 219, 220, 221, 222, 223, 224, 225, 226, 227, 228, 229, 230, 231, 232, 233, 234, 235, 236, 237, 238, 239, 240, 241, 243, 244, 245, 246, 247, 248, 249, 250, 252, 253, 254, 255, 256, 257, 258, 259, 260, 261, 262, 263, 264, 265, 266, 267, 268, 269, 270, 271, 272, 273, 274, 275, 276, 277, 278, 279, 280, 281, 282, 283, 284, 285, 286, 287, 288, 289, 290, 291, 292, 293, 294, 295, 297, 298, 299, 300, 301, 302, 303, 304, 305, 306, 307, 308, 309, 310, 311, 312, 313, 314, 315, 316, 317, 318, 319, 320, 322, 323, 324, 325, 326, 327, 328, 329, 330, 331, 332, 333, 334, 335, 336, 337, 338, 339, 340, 341, 342, 343, 344, 345, 346, 348, 349, 350, 351, 352, 353, 354, 355, 356, 357, 358, 359, 360, 361, 362, 363, 364, 365, 366, 367, 368, 369, 370, 371, 372, 373, 374, 375, 376, 377, 378, 380, 381, 382, 383, 384, 385, 386, 387, 388, 389, 390, 391, 392, 393, 395, 396, 397, 398, 399, 400, 401, 402, 403, 405, 406, 407, 408, 409, 410, 411, 412, 413, 414, 415, 416, 417, 418, 419, 420, 421, 422, 423, 424, 425, 426, 427, 428, 429, 430, 431, 432, 433, 434, 435, 436, 437, 438, 439, 440, 441, 442, 443, 444, 445, 446, 447, 448, 449, 450, 451, 452, 453, 454, 455, 456, 457, 458, 459, 460, 461, 462, 463, 464, 465, 466, 467, 469, 470, 471, 472, 473, 474, 475, 476, 477, 479, 480, 481, 482, 483, 484, 486, 487, 488, 489, 490, 491, 492, 493, 494, 495, 496, 497, 499, 500, 501, 502, 503, 504, 505, 506, 508, 509, 510, 511, 512, 513, 514, 515, 517, 518, 519, 520, 522, 523, 524, 525, 526, 527, 528, 529, 531, 532, 533, 534, 535, 536, 537, 538, 539, 540, 541, 542, 543, 544, 545, 546, 547, 548, 549, 550, 551, 552, 553, 554, 555, 556, 557, 558, 559, 560, 561, 562, 563, 564, 565, 566, 567, 568, 570, 571, 572, 573, 575, 576, 577, 578, 579, 580, 581, 582, 583, 584, 585, 586, 587, 588, 589, 590, 591, 592, 593, 594, 595, 596, 597, 598, 599, 600, 601, 602, 603, 604, 605, 606, 607, 608, 609, 610]\n",
            "[19, 20, 21, 22, 23, 24, 25, 27, 28, 29, 30, 31, 32, 33, 34, 36, 38, 39, 40, 41, 42, 43, 44, 45, 47, 50, 51, 52, 53, 54, 55, 56, 57, 58, 59, 60, 61, 62, 63, 64, 65, 66, 67, 68, 69, 70, 72, 73, 74, 75, 76, 77, 78, 79, 80, 82, 83, 84, 85, 86, 88, 89, 90, 91, 92, 93, 95, 96, 97, 98, 99, 100, 101, 102, 103, 104, 105, 106, 108, 109, 110, 111, 112, 113, 114, 115, 116, 117, 118, 119, 121, 122, 123, 124, 125, 127, 128, 129, 131, 132, 133, 135, 136, 137, 138, 139, 140, 141, 142, 143, 144, 146, 148, 149, 150, 151, 152, 153, 154, 155, 156, 157, 158, 159, 160, 161, 162, 164, 165, 166, 167, 168, 169, 170, 171, 172, 175, 176, 177, 178, 179, 180, 182, 183, 184, 185, 186, 187, 188, 189, 190, 191, 193, 194, 195, 196, 197, 198, 199, 200, 201, 202, 203, 204, 205, 206, 207, 209, 210, 211, 212, 213, 214, 215, 216, 217, 218, 219, 220, 221, 222, 223, 224, 225, 226, 227, 228, 230, 231, 232, 233, 234, 235, 236, 237, 238, 239, 241, 244, 245, 246, 247, 248, 249, 250, 252, 253, 254, 255, 256, 258, 259, 260, 261, 262, 263, 264, 265, 266, 267, 268, 269, 270, 271, 272, 273, 274, 275, 277, 278, 279, 280, 281, 282, 283, 284, 285, 286, 287, 288, 289, 290, 291, 292, 293, 294, 295, 296, 297, 298, 299, 300, 301, 302, 303, 304, 305, 306, 307, 308, 309, 310, 311, 312, 313, 314, 315, 316, 317, 318, 319, 320, 322, 323, 324, 325, 326, 327, 328, 329, 330, 331, 332, 333, 334, 335, 336, 337, 338, 339, 341, 342, 343, 344, 345, 346, 348, 350, 351, 352, 353, 354, 355, 356, 357, 358, 359, 360, 361, 362, 364, 365, 366, 367, 368, 369, 370, 371, 372, 373, 375, 376, 377, 378, 380, 381, 382, 383, 384, 385, 386, 387, 388, 389, 390, 391, 392, 393, 395, 397, 398, 399, 400, 401, 402, 403, 404, 405, 406, 407, 408, 409, 410, 411, 412, 413, 414, 415, 416, 417, 418, 419, 420, 421, 422, 424, 425, 426, 427, 428, 429, 430, 431, 432, 433, 434, 435, 436, 437, 438, 440, 441, 442, 443, 445, 446, 448, 449, 450, 451, 452, 453, 454, 455, 456, 457, 459, 460, 462, 463, 464, 465, 466, 467, 469, 470, 471, 472, 473, 474, 475, 476, 477, 478, 479, 480, 481, 482, 483, 484, 487, 488, 489, 490, 491, 492, 493, 494, 495, 496, 498, 499, 500, 501, 502, 503, 504, 505, 506, 508, 509, 510, 511, 514, 515, 516, 517, 518, 519, 520, 521, 522, 523, 524, 525, 526, 527, 528, 529, 531, 532, 533, 534, 535, 536, 537, 538, 539, 540, 541, 542, 543, 545, 546, 548, 550, 551, 552, 553, 554, 555, 556, 558, 559, 560, 561, 562, 563, 564, 566, 567, 568, 570, 571, 572, 573, 575, 576, 577, 578, 579, 580, 582, 583, 584, 585, 586, 587, 588, 589, 590, 591, 592, 593, 594, 595, 596, 597, 598, 599, 600, 601, 602, 603, 604, 605, 606, 607, 608, 609, 610]\n",
            "[41, 42, 43, 44, 45, 47, 48, 50, 51, 52, 53, 54, 55, 56, 57, 58, 59, 60, 62, 63, 64, 65, 66, 67, 68, 69, 70, 71, 72, 73, 74, 75, 76, 78, 79, 80, 82, 83, 84, 85, 86, 87, 88, 89, 90, 91, 92, 93, 95, 96, 97, 98, 99, 100, 101, 103, 104, 105, 106, 108, 109, 110, 111, 113, 114, 115, 116, 117, 118, 119, 122, 123, 124, 125, 127, 128, 129, 131, 132, 134, 135, 136, 137, 138, 139, 140, 141, 142, 143, 144, 146, 148, 149, 151, 152, 153, 154, 155, 156, 157, 158, 159, 160, 161, 162, 163, 164, 165, 166, 167, 168, 169, 171, 172, 175, 177, 178, 179, 180, 181, 182, 183, 184, 185, 186, 187, 188, 190, 191, 193, 195, 197, 198, 199, 200, 201, 202, 204, 205, 206, 207, 208, 209, 210, 211, 212, 213, 215, 216, 217, 219, 220, 221, 222, 223, 224, 225, 226, 227, 228, 229, 230, 232, 233, 234, 236, 237, 238, 239, 240, 241, 243, 244, 245, 246, 247, 248, 249, 250, 251, 252, 253, 254, 255, 256, 259, 260, 261, 262, 263, 264, 265, 266, 267, 268, 269, 270, 271, 272, 274, 275, 276, 277, 278, 279, 280, 281, 282, 283, 284, 285, 286, 287, 288, 289, 290, 291, 292, 293, 294, 295, 297, 298, 299, 300, 301, 302, 303, 304, 305, 306, 307, 308, 309, 310, 311, 312, 313, 314, 315, 316, 317, 318, 319, 320, 322, 323, 324, 325, 326, 327, 328, 329, 330, 331, 332, 333, 334, 336, 337, 338, 339, 341, 342, 343, 344, 345, 346, 348, 350, 351, 352, 353, 354, 355, 356, 357, 358, 359, 360, 361, 362, 363, 365, 367, 368, 369, 371, 372, 373, 374, 375, 376, 377, 378, 380, 381, 382, 383, 384, 385, 386, 387, 388, 390, 391, 392, 393, 395, 396, 397, 398, 400, 401, 403, 405, 406, 408, 409, 410, 411, 412, 413, 414, 415, 416, 417, 418, 419, 420, 421, 422, 423, 424, 425, 426, 427, 428, 429, 430, 432, 433, 434, 436, 437, 438, 439, 440, 441, 442, 443, 445, 447, 448, 450, 452, 453, 454, 456, 457, 458, 459, 460, 462, 463, 464, 465, 466, 467, 469, 470, 471, 472, 473, 474, 475, 477, 479, 480, 481, 482, 483, 484, 486, 487, 488, 489, 490, 491, 492, 493, 495, 496, 497, 499, 500, 501, 502, 503, 504, 505, 506, 508, 509, 510, 511, 514, 515, 516, 517, 518, 520, 521, 522, 523, 524, 525, 526, 527, 528, 531, 532, 533, 534, 535, 536, 537, 538, 539, 540, 541, 542, 543, 544, 545, 546, 547, 548, 551, 552, 553, 554, 555, 556, 558, 559, 560, 561, 562, 563, 564, 566, 567, 568, 570, 571, 572, 573, 575, 576, 577, 578, 579, 580, 582, 583, 584, 585, 586, 587, 588, 590, 591, 592, 593, 594, 595, 596, 597, 598, 599, 600, 601, 602, 603, 604, 605, 606, 607, 608, 609, 610]\n",
            "[105, 106, 108, 109, 110, 111, 113, 114, 115, 116, 117, 119, 122, 123, 125, 128, 129, 131, 132, 135, 136, 137, 138, 139, 140, 142, 143, 144, 146, 148, 149, 151, 153, 154, 155, 156, 157, 158, 160, 161, 163, 164, 165, 166, 167, 168, 169, 171, 175, 177, 178, 179, 181, 182, 183, 184, 185, 186, 187, 188, 191, 193, 195, 197, 198, 199, 200, 202, 204, 205, 209, 210, 212, 213, 214, 215, 216, 217, 219, 220, 221, 222, 223, 224, 225, 226, 227, 228, 230, 232, 233, 234, 236, 237, 238, 240, 241, 244, 245, 246, 247, 248, 249, 250, 251, 252, 253, 254, 255, 256, 260, 261, 262, 263, 264, 265, 266, 267, 268, 269, 270, 271, 274, 275, 277, 279, 280, 282, 283, 284, 285, 286, 287, 288, 289, 290, 291, 292, 294, 295, 296, 297, 298, 299, 301, 303, 304, 305, 306, 307, 308, 309, 310, 311, 312, 313, 314, 315, 317, 318, 320, 322, 323, 324, 325, 326, 327, 328, 329, 330, 331, 332, 333, 334, 336, 337, 338, 339, 341, 342, 343, 344, 345, 346, 348, 351, 352, 353, 356, 357, 358, 359, 360, 361, 362, 363, 364, 365, 367, 368, 369, 371, 372, 373, 376, 377, 380, 381, 382, 383, 384, 385, 387, 388, 389, 390, 391, 393, 397, 398, 401, 402, 403, 405, 406, 408, 409, 410, 411, 412, 414, 415, 416, 418, 419, 420, 421, 422, 424, 425, 426, 427, 428, 429, 430, 432, 434, 436, 437, 438, 440, 441, 443, 444, 448, 450, 452, 453, 454, 456, 460, 462, 464, 465, 467, 469, 473, 474, 475, 476, 477, 478, 479, 480, 481, 482, 483, 484, 487, 488, 489, 490, 491, 492, 493, 494, 495, 496, 497, 499, 500, 501, 502, 503, 504, 505, 506, 509, 510, 511, 513, 514, 515, 516, 517, 520, 521, 522, 523, 524, 525, 526, 527, 528, 531, 532, 533, 534, 535, 536, 537, 538, 540, 541, 542, 543, 544, 545, 546, 547, 548, 549, 550, 551, 552, 553, 554, 555, 556, 558, 559, 560, 561, 562, 563, 564, 567, 568, 571, 572, 573, 575, 577, 578, 579, 580, 583, 585, 586, 587, 588, 589, 590, 591, 593, 594, 595, 596, 597, 598, 599, 600, 601, 602, 603, 604, 605, 606, 607, 608, 609, 610]\n"
          ]
        }
      ]
    },
    {
      "cell_type": "code",
      "source": [
        "df_big_chunk_and_chunk_2_1 = pd.concat([chunks[0],mini_chunks[0],mini_chunks[1]], ignore_index=True)"
      ],
      "metadata": {
        "id": "VtJmBAoD8TYF"
      },
      "execution_count": null,
      "outputs": []
    },
    {
      "cell_type": "code",
      "source": [
        "matrix_item_assignment_3_iter3 = df_big_chunk_and_chunk_2_1.pivot_table(index='title', columns='userId', values='rating')\n",
        "matrix_item_norm_assignment_3_iter3 = matrix_item_assignment_3_iter3.subtract(matrix_item_assignment_3_iter3.mean(axis=1), axis = 0)\n",
        "df_item_similarity_cosine_asign_3_iter3 = pd.DataFrame(cosine_similarity(matrix_item_norm_assignment_3_iter3.fillna(0.0000001)))\n",
        "item_similarity_pearson_assignment_3_iter3 = matrix_item_norm_assignment_3_iter3.T.corr()\n",
        "df_item_similarity_cosine_asign_3_iter3.columns = item_similarity_pearson_assignment_3_iter3.columns\n",
        "df_item_similarity_cosine_asign_3_iter3.index = item_similarity_pearson_assignment_3_iter3.index"
      ],
      "metadata": {
        "id": "DyMbgvmr7Gd8"
      },
      "execution_count": null,
      "outputs": []
    },
    {
      "cell_type": "code",
      "source": [
        "# Item-based recommendation function\n",
        "def item_based_rec_assignment_3_iter3(picked_userid, number_of_similar_items, number_of_recommendations):\n",
        "  import operator\n",
        "  # Movies that the target user has not watched\n",
        "  picked_userid_unwatched = pd.DataFrame(matrix_item_norm_assignment_3_iter3[picked_userid].isna()).reset_index()\n",
        "  picked_userid_unwatched = picked_userid_unwatched[picked_userid_unwatched[picked_userid]==True]['title'].values.tolist()\n",
        "\n",
        "  # Movies that the target user has watched\n",
        "  picked_userid_watched = pd.DataFrame(matrix_item_norm_assignment_3_iter3[picked_userid].dropna(axis=0, how='all')\\\n",
        "                            .sort_values(ascending=False))\\\n",
        "                            .reset_index()\\\n",
        "                            .rename(columns={picked_userid:'rating'})\n",
        "  \n",
        "  # Dictionary to save the unwatched movie and predicted rating pair\n",
        "  rating_prediction ={}  \n",
        "\n",
        "  # Loop through unwatched movies          \n",
        "  for picked_movie in picked_userid_unwatched: \n",
        "    # Calculate the similarity score of the picked movie iwth other movies\n",
        "    # picked_movie_similarity_score = item_similarity_pearson[[picked_movie]].reset_index().rename(columns={picked_movie:'similarity_score'})\n",
        "    picked_movie_similarity_score = df_item_similarity_cosine_asign_3_iter3[[picked_movie]].reset_index().rename(columns={picked_movie:'similarity_score'})\n",
        "\n",
        "    # Rank the similarities between the picked user watched movie and the picked unwatched movie.\n",
        "    picked_userid_watched_similarity = pd.merge(left=picked_userid_watched, \n",
        "                                                right=picked_movie_similarity_score, \n",
        "                                                on='title', \n",
        "                                                how='inner')\\\n",
        "                                        .sort_values('similarity_score', ascending=False)[:number_of_similar_items]\n",
        "\n",
        "    # Calculate the predicted rating using weighted average of similarity scores and the ratings from user 1\n",
        "    # predicted_rating = round(np.average(picked_userid_watched_similarity['rating']),6)\n",
        "    predicted_rating = round(np.average(picked_userid_watched_similarity['rating'], \n",
        "                                        weights=picked_userid_watched_similarity['similarity_score']), 6)\n",
        "    \n",
        "    # Save the predicted rating in the dictionary\n",
        "    rating_prediction[picked_movie] = predicted_rating\n",
        "    # Return the top recommended movies\n",
        "  return sorted(rating_prediction.items(), key=operator.itemgetter(1), reverse=True)[:number_of_recommendations]"
      ],
      "metadata": {
        "id": "AFbfeX0U80ma"
      },
      "execution_count": null,
      "outputs": []
    },
    {
      "cell_type": "code",
      "source": [
        "#recommendations for user 110\n",
        "\n",
        "print(\"Recommended movies for user 110\")\n",
        "recommended_movies_user_110 = item_based_rec_assignment_3(picked_userid=110, number_of_similar_items=5, number_of_recommendations =20)\n",
        "recommended_movies_user_110_df = pd.DataFrame(recommended_movies_user_110)\n",
        "recommended_movies_user_110_df_list = recommended_movies_user_110_df[1].values.tolist()"
      ],
      "metadata": {
        "colab": {
          "base_uri": "https://localhost:8080/"
        },
        "id": "SlddSH5E86Gm",
        "outputId": "b4fd6c5f-b19e-44d6-f966-d2bf77e0938f"
      },
      "execution_count": null,
      "outputs": [
        {
          "output_type": "stream",
          "name": "stdout",
          "text": [
            "Recommended movies for user 110\n"
          ]
        }
      ]
    },
    {
      "cell_type": "code",
      "source": [
        "print(\"Recommended movies for user 250\")\n",
        "recommended_movies_user_250 = item_based_rec_assignment_3(picked_userid=250, number_of_similar_items=5, number_of_recommendations =20)\n",
        "recommended_movies_user_250_df = pd.DataFrame(recommended_movies_user_250)\n",
        "recommended_movies_user_250_df_list = recommended_movies_user_250_df[1].values.tolist()"
      ],
      "metadata": {
        "colab": {
          "base_uri": "https://localhost:8080/"
        },
        "id": "XM-uP8Zz8-ii",
        "outputId": "60888478-2024-4325-8b12-4cf6bb10262a"
      },
      "execution_count": null,
      "outputs": [
        {
          "output_type": "stream",
          "name": "stdout",
          "text": [
            "Recommended movies for user 250\n"
          ]
        }
      ]
    },
    {
      "cell_type": "code",
      "source": [
        "print(\"Recommended movies for user 401\")\n",
        "recommended_movies_user_401 = item_based_rec_assignment_3(picked_userid=401, number_of_similar_items=5, number_of_recommendations =20)\n",
        "recommended_movies_user_401_df = pd.DataFrame(recommended_movies_user_401)\n",
        "recommended_movies_user_401_df_list = recommended_movies_user_401_df[1].values.tolist()"
      ],
      "metadata": {
        "colab": {
          "base_uri": "https://localhost:8080/"
        },
        "id": "jYCBExAP9AHn",
        "outputId": "2d4934e9-4c9b-4218-b031-d71ab119f0e8"
      },
      "execution_count": null,
      "outputs": [
        {
          "output_type": "stream",
          "name": "stdout",
          "text": [
            "Recommended movies for user 401\n"
          ]
        }
      ]
    },
    {
      "cell_type": "code",
      "source": [
        "output_list_group_3_iter3 = []\n",
        "user_id_lists = [110,250,401]\n",
        "for user in user_id_lists:\n",
        "    recommended_movie = item_based_rec_assignment_3_iter3(picked_userid=user, number_of_similar_items=5, number_of_recommendations =20)\n",
        "    output_list_group_3_iter3.append(recommended_movie)"
      ],
      "metadata": {
        "id": "GmUl_dhL9DL7"
      },
      "execution_count": null,
      "outputs": []
    },
    {
      "cell_type": "code",
      "source": [
        "#converting into dataframe\n",
        "group_movies_df_iter3 =  pd.DataFrame([t for lst in output_list_group_3 for t in lst])\n",
        "group_movies_df_iter3 = group_movies_df.rename(columns={0: 'movie', 1: 'score'})"
      ],
      "metadata": {
        "id": "nUvUaJey9FBz"
      },
      "execution_count": null,
      "outputs": []
    },
    {
      "cell_type": "code",
      "source": [
        "group_movies_df_iter3\n"
      ],
      "metadata": {
        "colab": {
          "base_uri": "https://localhost:8080/",
          "height": 1000
        },
        "id": "P7j7lvn59HFc",
        "outputId": "3e937672-74cd-4248-d324-4529e23d17ea"
      },
      "execution_count": null,
      "outputs": [
        {
          "output_type": "execute_result",
          "data": {
            "text/plain": [
              "                                          movie     score\n",
              "0                  Bridget Jones's Diary (2001)  0.533963\n",
              "1               Priceless (Hors de prix) (2006)  0.522125\n",
              "2                             Speechless (1994)  0.507170\n",
              "3                               Mallrats (1995)  0.486892\n",
              "4                              Roommates (1995)  0.457311\n",
              "5      Princess Mononoke (Mononoke-hime) (1997)  0.447869\n",
              "6                           General, The (1926)  0.434774\n",
              "7                 Breakfast at Tiffany's (1961)  0.422058\n",
              "8                      Lord of Illusions (1995)  0.410941\n",
              "9                        Valentine's Day (2010)  0.401128\n",
              "10                           Richard III (1995)  0.395290\n",
              "11                       Charlotte's Web (1973)  0.384728\n",
              "12                  (500) Days of Summer (2009)  0.369829\n",
              "13                              20 Dates (1998)  0.361809\n",
              "14                           With Honors (1994)  0.355781\n",
              "15                    When We Were Kings (1996)  0.345397\n",
              "16                         Fly Away Home (1996)  0.338312\n",
              "17                Together (Tillsammans) (2000)  0.336279\n",
              "18                     Road to Perdition (2002)  0.335548\n",
              "19               Crimes and Misdemeanors (1989)  0.333971\n",
              "20                                  Safe (1995)  1.436479\n",
              "21                               Mr. Mom (1983)  1.292588\n",
              "22                          Program, The (1993)  1.285166\n",
              "23                                L.I.E. (2001)  1.278402\n",
              "24                           Sling Blade (1996)  1.265142\n",
              "25                   Tales from the Hood (1995)  1.264544\n",
              "26                           Match Point (2005)  1.242517\n",
              "27                            Dead Again (1991)  1.233744\n",
              "28                 2001: A Space Odyssey (1968)  1.232912\n",
              "29                      Muriel's Wedding (1994)  1.231663\n",
              "30                             Tank Girl (1995)  1.208204\n",
              "31  Eat Drink Man Woman (Yin shi nan nu) (1994)  1.203306\n",
              "32                                 Shaft (2000)  1.198530\n",
              "33                            Inside Job (2010)  1.195232\n",
              "34  Hobbit: The Desolation of Smaug, The (2013)  1.190717\n",
              "35                      Somebody to Love (1994)  1.188026\n",
              "36                   King of Comedy, The (1983)  1.179470\n",
              "37              Escape to Witch Mountain (1975)  1.170227\n",
              "38                         Terminal, The (2004)  1.162897\n",
              "39                          Moulin Rouge (2001)  1.162203\n",
              "40               Simple Twist of Fate, A (1994)  1.499419\n",
              "41                      Before and After (1996)  1.498838\n",
              "42                             Showgirls (1995)  0.718141\n",
              "43                              Saturn 3 (1980)  0.569695\n",
              "44                       Michael Collins (1996)  0.362096\n",
              "45                   Cops and Robbersons (1994)  0.347776\n",
              "46                             High Noon (1952)  0.347495\n",
              "47                               Mad Max (1979)  0.312743\n",
              "48                             Cure, The (1995)  0.310271\n",
              "49                      Dangerous Ground (1997)  0.310271\n",
              "50                                 Gordy (1995)  0.310271\n",
              "51                   I Like It Like That (1994)  0.310271\n",
              "52                    Jefferson in Paris (1995)  0.310271\n",
              "53                             My Family (1995)  0.310271\n",
              "54                      Nothing Personal (1995)  0.310271\n",
              "55                        Poetic Justice (1993)  0.310271\n",
              "56                              Reckless (1995)  0.310271\n",
              "57                            Rent-a-Kid (1995)  0.310271\n",
              "58                   Spirits of the Dead (1968)  0.310271\n",
              "59                          Three Wishes (1995)  0.310271"
            ],
            "text/html": [
              "\n",
              "  <div id=\"df-eb644258-a289-40db-aef6-ea127f2fa062\">\n",
              "    <div class=\"colab-df-container\">\n",
              "      <div>\n",
              "<style scoped>\n",
              "    .dataframe tbody tr th:only-of-type {\n",
              "        vertical-align: middle;\n",
              "    }\n",
              "\n",
              "    .dataframe tbody tr th {\n",
              "        vertical-align: top;\n",
              "    }\n",
              "\n",
              "    .dataframe thead th {\n",
              "        text-align: right;\n",
              "    }\n",
              "</style>\n",
              "<table border=\"1\" class=\"dataframe\">\n",
              "  <thead>\n",
              "    <tr style=\"text-align: right;\">\n",
              "      <th></th>\n",
              "      <th>movie</th>\n",
              "      <th>score</th>\n",
              "    </tr>\n",
              "  </thead>\n",
              "  <tbody>\n",
              "    <tr>\n",
              "      <th>0</th>\n",
              "      <td>Bridget Jones's Diary (2001)</td>\n",
              "      <td>0.533963</td>\n",
              "    </tr>\n",
              "    <tr>\n",
              "      <th>1</th>\n",
              "      <td>Priceless (Hors de prix) (2006)</td>\n",
              "      <td>0.522125</td>\n",
              "    </tr>\n",
              "    <tr>\n",
              "      <th>2</th>\n",
              "      <td>Speechless (1994)</td>\n",
              "      <td>0.507170</td>\n",
              "    </tr>\n",
              "    <tr>\n",
              "      <th>3</th>\n",
              "      <td>Mallrats (1995)</td>\n",
              "      <td>0.486892</td>\n",
              "    </tr>\n",
              "    <tr>\n",
              "      <th>4</th>\n",
              "      <td>Roommates (1995)</td>\n",
              "      <td>0.457311</td>\n",
              "    </tr>\n",
              "    <tr>\n",
              "      <th>5</th>\n",
              "      <td>Princess Mononoke (Mononoke-hime) (1997)</td>\n",
              "      <td>0.447869</td>\n",
              "    </tr>\n",
              "    <tr>\n",
              "      <th>6</th>\n",
              "      <td>General, The (1926)</td>\n",
              "      <td>0.434774</td>\n",
              "    </tr>\n",
              "    <tr>\n",
              "      <th>7</th>\n",
              "      <td>Breakfast at Tiffany's (1961)</td>\n",
              "      <td>0.422058</td>\n",
              "    </tr>\n",
              "    <tr>\n",
              "      <th>8</th>\n",
              "      <td>Lord of Illusions (1995)</td>\n",
              "      <td>0.410941</td>\n",
              "    </tr>\n",
              "    <tr>\n",
              "      <th>9</th>\n",
              "      <td>Valentine's Day (2010)</td>\n",
              "      <td>0.401128</td>\n",
              "    </tr>\n",
              "    <tr>\n",
              "      <th>10</th>\n",
              "      <td>Richard III (1995)</td>\n",
              "      <td>0.395290</td>\n",
              "    </tr>\n",
              "    <tr>\n",
              "      <th>11</th>\n",
              "      <td>Charlotte's Web (1973)</td>\n",
              "      <td>0.384728</td>\n",
              "    </tr>\n",
              "    <tr>\n",
              "      <th>12</th>\n",
              "      <td>(500) Days of Summer (2009)</td>\n",
              "      <td>0.369829</td>\n",
              "    </tr>\n",
              "    <tr>\n",
              "      <th>13</th>\n",
              "      <td>20 Dates (1998)</td>\n",
              "      <td>0.361809</td>\n",
              "    </tr>\n",
              "    <tr>\n",
              "      <th>14</th>\n",
              "      <td>With Honors (1994)</td>\n",
              "      <td>0.355781</td>\n",
              "    </tr>\n",
              "    <tr>\n",
              "      <th>15</th>\n",
              "      <td>When We Were Kings (1996)</td>\n",
              "      <td>0.345397</td>\n",
              "    </tr>\n",
              "    <tr>\n",
              "      <th>16</th>\n",
              "      <td>Fly Away Home (1996)</td>\n",
              "      <td>0.338312</td>\n",
              "    </tr>\n",
              "    <tr>\n",
              "      <th>17</th>\n",
              "      <td>Together (Tillsammans) (2000)</td>\n",
              "      <td>0.336279</td>\n",
              "    </tr>\n",
              "    <tr>\n",
              "      <th>18</th>\n",
              "      <td>Road to Perdition (2002)</td>\n",
              "      <td>0.335548</td>\n",
              "    </tr>\n",
              "    <tr>\n",
              "      <th>19</th>\n",
              "      <td>Crimes and Misdemeanors (1989)</td>\n",
              "      <td>0.333971</td>\n",
              "    </tr>\n",
              "    <tr>\n",
              "      <th>20</th>\n",
              "      <td>Safe (1995)</td>\n",
              "      <td>1.436479</td>\n",
              "    </tr>\n",
              "    <tr>\n",
              "      <th>21</th>\n",
              "      <td>Mr. Mom (1983)</td>\n",
              "      <td>1.292588</td>\n",
              "    </tr>\n",
              "    <tr>\n",
              "      <th>22</th>\n",
              "      <td>Program, The (1993)</td>\n",
              "      <td>1.285166</td>\n",
              "    </tr>\n",
              "    <tr>\n",
              "      <th>23</th>\n",
              "      <td>L.I.E. (2001)</td>\n",
              "      <td>1.278402</td>\n",
              "    </tr>\n",
              "    <tr>\n",
              "      <th>24</th>\n",
              "      <td>Sling Blade (1996)</td>\n",
              "      <td>1.265142</td>\n",
              "    </tr>\n",
              "    <tr>\n",
              "      <th>25</th>\n",
              "      <td>Tales from the Hood (1995)</td>\n",
              "      <td>1.264544</td>\n",
              "    </tr>\n",
              "    <tr>\n",
              "      <th>26</th>\n",
              "      <td>Match Point (2005)</td>\n",
              "      <td>1.242517</td>\n",
              "    </tr>\n",
              "    <tr>\n",
              "      <th>27</th>\n",
              "      <td>Dead Again (1991)</td>\n",
              "      <td>1.233744</td>\n",
              "    </tr>\n",
              "    <tr>\n",
              "      <th>28</th>\n",
              "      <td>2001: A Space Odyssey (1968)</td>\n",
              "      <td>1.232912</td>\n",
              "    </tr>\n",
              "    <tr>\n",
              "      <th>29</th>\n",
              "      <td>Muriel's Wedding (1994)</td>\n",
              "      <td>1.231663</td>\n",
              "    </tr>\n",
              "    <tr>\n",
              "      <th>30</th>\n",
              "      <td>Tank Girl (1995)</td>\n",
              "      <td>1.208204</td>\n",
              "    </tr>\n",
              "    <tr>\n",
              "      <th>31</th>\n",
              "      <td>Eat Drink Man Woman (Yin shi nan nu) (1994)</td>\n",
              "      <td>1.203306</td>\n",
              "    </tr>\n",
              "    <tr>\n",
              "      <th>32</th>\n",
              "      <td>Shaft (2000)</td>\n",
              "      <td>1.198530</td>\n",
              "    </tr>\n",
              "    <tr>\n",
              "      <th>33</th>\n",
              "      <td>Inside Job (2010)</td>\n",
              "      <td>1.195232</td>\n",
              "    </tr>\n",
              "    <tr>\n",
              "      <th>34</th>\n",
              "      <td>Hobbit: The Desolation of Smaug, The (2013)</td>\n",
              "      <td>1.190717</td>\n",
              "    </tr>\n",
              "    <tr>\n",
              "      <th>35</th>\n",
              "      <td>Somebody to Love (1994)</td>\n",
              "      <td>1.188026</td>\n",
              "    </tr>\n",
              "    <tr>\n",
              "      <th>36</th>\n",
              "      <td>King of Comedy, The (1983)</td>\n",
              "      <td>1.179470</td>\n",
              "    </tr>\n",
              "    <tr>\n",
              "      <th>37</th>\n",
              "      <td>Escape to Witch Mountain (1975)</td>\n",
              "      <td>1.170227</td>\n",
              "    </tr>\n",
              "    <tr>\n",
              "      <th>38</th>\n",
              "      <td>Terminal, The (2004)</td>\n",
              "      <td>1.162897</td>\n",
              "    </tr>\n",
              "    <tr>\n",
              "      <th>39</th>\n",
              "      <td>Moulin Rouge (2001)</td>\n",
              "      <td>1.162203</td>\n",
              "    </tr>\n",
              "    <tr>\n",
              "      <th>40</th>\n",
              "      <td>Simple Twist of Fate, A (1994)</td>\n",
              "      <td>1.499419</td>\n",
              "    </tr>\n",
              "    <tr>\n",
              "      <th>41</th>\n",
              "      <td>Before and After (1996)</td>\n",
              "      <td>1.498838</td>\n",
              "    </tr>\n",
              "    <tr>\n",
              "      <th>42</th>\n",
              "      <td>Showgirls (1995)</td>\n",
              "      <td>0.718141</td>\n",
              "    </tr>\n",
              "    <tr>\n",
              "      <th>43</th>\n",
              "      <td>Saturn 3 (1980)</td>\n",
              "      <td>0.569695</td>\n",
              "    </tr>\n",
              "    <tr>\n",
              "      <th>44</th>\n",
              "      <td>Michael Collins (1996)</td>\n",
              "      <td>0.362096</td>\n",
              "    </tr>\n",
              "    <tr>\n",
              "      <th>45</th>\n",
              "      <td>Cops and Robbersons (1994)</td>\n",
              "      <td>0.347776</td>\n",
              "    </tr>\n",
              "    <tr>\n",
              "      <th>46</th>\n",
              "      <td>High Noon (1952)</td>\n",
              "      <td>0.347495</td>\n",
              "    </tr>\n",
              "    <tr>\n",
              "      <th>47</th>\n",
              "      <td>Mad Max (1979)</td>\n",
              "      <td>0.312743</td>\n",
              "    </tr>\n",
              "    <tr>\n",
              "      <th>48</th>\n",
              "      <td>Cure, The (1995)</td>\n",
              "      <td>0.310271</td>\n",
              "    </tr>\n",
              "    <tr>\n",
              "      <th>49</th>\n",
              "      <td>Dangerous Ground (1997)</td>\n",
              "      <td>0.310271</td>\n",
              "    </tr>\n",
              "    <tr>\n",
              "      <th>50</th>\n",
              "      <td>Gordy (1995)</td>\n",
              "      <td>0.310271</td>\n",
              "    </tr>\n",
              "    <tr>\n",
              "      <th>51</th>\n",
              "      <td>I Like It Like That (1994)</td>\n",
              "      <td>0.310271</td>\n",
              "    </tr>\n",
              "    <tr>\n",
              "      <th>52</th>\n",
              "      <td>Jefferson in Paris (1995)</td>\n",
              "      <td>0.310271</td>\n",
              "    </tr>\n",
              "    <tr>\n",
              "      <th>53</th>\n",
              "      <td>My Family (1995)</td>\n",
              "      <td>0.310271</td>\n",
              "    </tr>\n",
              "    <tr>\n",
              "      <th>54</th>\n",
              "      <td>Nothing Personal (1995)</td>\n",
              "      <td>0.310271</td>\n",
              "    </tr>\n",
              "    <tr>\n",
              "      <th>55</th>\n",
              "      <td>Poetic Justice (1993)</td>\n",
              "      <td>0.310271</td>\n",
              "    </tr>\n",
              "    <tr>\n",
              "      <th>56</th>\n",
              "      <td>Reckless (1995)</td>\n",
              "      <td>0.310271</td>\n",
              "    </tr>\n",
              "    <tr>\n",
              "      <th>57</th>\n",
              "      <td>Rent-a-Kid (1995)</td>\n",
              "      <td>0.310271</td>\n",
              "    </tr>\n",
              "    <tr>\n",
              "      <th>58</th>\n",
              "      <td>Spirits of the Dead (1968)</td>\n",
              "      <td>0.310271</td>\n",
              "    </tr>\n",
              "    <tr>\n",
              "      <th>59</th>\n",
              "      <td>Three Wishes (1995)</td>\n",
              "      <td>0.310271</td>\n",
              "    </tr>\n",
              "  </tbody>\n",
              "</table>\n",
              "</div>\n",
              "      <button class=\"colab-df-convert\" onclick=\"convertToInteractive('df-eb644258-a289-40db-aef6-ea127f2fa062')\"\n",
              "              title=\"Convert this dataframe to an interactive table.\"\n",
              "              style=\"display:none;\">\n",
              "        \n",
              "  <svg xmlns=\"http://www.w3.org/2000/svg\" height=\"24px\"viewBox=\"0 0 24 24\"\n",
              "       width=\"24px\">\n",
              "    <path d=\"M0 0h24v24H0V0z\" fill=\"none\"/>\n",
              "    <path d=\"M18.56 5.44l.94 2.06.94-2.06 2.06-.94-2.06-.94-.94-2.06-.94 2.06-2.06.94zm-11 1L8.5 8.5l.94-2.06 2.06-.94-2.06-.94L8.5 2.5l-.94 2.06-2.06.94zm10 10l.94 2.06.94-2.06 2.06-.94-2.06-.94-.94-2.06-.94 2.06-2.06.94z\"/><path d=\"M17.41 7.96l-1.37-1.37c-.4-.4-.92-.59-1.43-.59-.52 0-1.04.2-1.43.59L10.3 9.45l-7.72 7.72c-.78.78-.78 2.05 0 2.83L4 21.41c.39.39.9.59 1.41.59.51 0 1.02-.2 1.41-.59l7.78-7.78 2.81-2.81c.8-.78.8-2.07 0-2.86zM5.41 20L4 18.59l7.72-7.72 1.47 1.35L5.41 20z\"/>\n",
              "  </svg>\n",
              "      </button>\n",
              "      \n",
              "  <style>\n",
              "    .colab-df-container {\n",
              "      display:flex;\n",
              "      flex-wrap:wrap;\n",
              "      gap: 12px;\n",
              "    }\n",
              "\n",
              "    .colab-df-convert {\n",
              "      background-color: #E8F0FE;\n",
              "      border: none;\n",
              "      border-radius: 50%;\n",
              "      cursor: pointer;\n",
              "      display: none;\n",
              "      fill: #1967D2;\n",
              "      height: 32px;\n",
              "      padding: 0 0 0 0;\n",
              "      width: 32px;\n",
              "    }\n",
              "\n",
              "    .colab-df-convert:hover {\n",
              "      background-color: #E2EBFA;\n",
              "      box-shadow: 0px 1px 2px rgba(60, 64, 67, 0.3), 0px 1px 3px 1px rgba(60, 64, 67, 0.15);\n",
              "      fill: #174EA6;\n",
              "    }\n",
              "\n",
              "    [theme=dark] .colab-df-convert {\n",
              "      background-color: #3B4455;\n",
              "      fill: #D2E3FC;\n",
              "    }\n",
              "\n",
              "    [theme=dark] .colab-df-convert:hover {\n",
              "      background-color: #434B5C;\n",
              "      box-shadow: 0px 1px 3px 1px rgba(0, 0, 0, 0.15);\n",
              "      filter: drop-shadow(0px 1px 2px rgba(0, 0, 0, 0.3));\n",
              "      fill: #FFFFFF;\n",
              "    }\n",
              "  </style>\n",
              "\n",
              "      <script>\n",
              "        const buttonEl =\n",
              "          document.querySelector('#df-eb644258-a289-40db-aef6-ea127f2fa062 button.colab-df-convert');\n",
              "        buttonEl.style.display =\n",
              "          google.colab.kernel.accessAllowed ? 'block' : 'none';\n",
              "\n",
              "        async function convertToInteractive(key) {\n",
              "          const element = document.querySelector('#df-eb644258-a289-40db-aef6-ea127f2fa062');\n",
              "          const dataTable =\n",
              "            await google.colab.kernel.invokeFunction('convertToInteractive',\n",
              "                                                     [key], {});\n",
              "          if (!dataTable) return;\n",
              "\n",
              "          const docLinkHtml = 'Like what you see? Visit the ' +\n",
              "            '<a target=\"_blank\" href=https://colab.research.google.com/notebooks/data_table.ipynb>data table notebook</a>'\n",
              "            + ' to learn more about interactive tables.';\n",
              "          element.innerHTML = '';\n",
              "          dataTable['output_type'] = 'display_data';\n",
              "          await google.colab.output.renderOutput(dataTable, element);\n",
              "          const docLink = document.createElement('div');\n",
              "          docLink.innerHTML = docLinkHtml;\n",
              "          element.appendChild(docLink);\n",
              "        }\n",
              "      </script>\n",
              "    </div>\n",
              "  </div>\n",
              "  "
            ]
          },
          "metadata": {},
          "execution_count": 41
        }
      ]
    },
    {
      "cell_type": "markdown",
      "source": [
        "because our alpha is low so we stick with average method for this iteration 3"
      ],
      "metadata": {
        "id": "KItqzUEI9Kue"
      }
    },
    {
      "cell_type": "code",
      "source": [
        "#using the average aggregation\n",
        "df_mean = group_movies_df_iter3.groupby(['movie']).mean()\n",
        "recommendations_for_3 = df_mean.sort_values(by=['score'], ascending=False)\n",
        "recommendations_for_3[\"score\"] = recommendations_for_3[\"score\"] * (1 - 0.0640479459038612)"
      ],
      "metadata": {
        "id": "iPG3GJgo9KSg"
      },
      "execution_count": null,
      "outputs": []
    },
    {
      "cell_type": "code",
      "source": [
        "recommendations_for_3_list = recommendations_for_3['score'].values.tolist()\n",
        "recommendations_for_3_list_top20 = recommendations_for_3_list[:20]"
      ],
      "metadata": {
        "id": "dx7aeP_C9P4G"
      },
      "execution_count": null,
      "outputs": []
    },
    {
      "cell_type": "code",
      "source": [
        "#get satisfaction score of first iteration\n",
        "satA1, satB1, satC1, alpha1, group_sat1= alpha_score(recommended_movies_user_110_df_list, recommended_movies_user_250_df_list, recommended_movies_user_401_df_list, recommendations_for_3_list_top20)"
      ],
      "metadata": {
        "id": "bVOEXvUk9RW-"
      },
      "execution_count": null,
      "outputs": []
    },
    {
      "cell_type": "code",
      "source": [
        "satA1, satB1, satC1, alpha1, group_sat1"
      ],
      "metadata": {
        "colab": {
          "base_uri": "https://localhost:8080/"
        },
        "id": "Uh1hD1lj9TVh",
        "outputId": "6d4e869a-18aa-4bd4-ee67-695ba33ce423"
      },
      "execution_count": null,
      "outputs": [
        {
          "output_type": "execute_result",
          "data": {
            "text/plain": [
              "(2.8938416716817144,\n",
              " 0.9615406931233097,\n",
              " 2.5241365450679862,\n",
              " 0.0640479459038612,\n",
              " 2.1265063032910034)"
            ]
          },
          "metadata": {},
          "execution_count": 45
        }
      ]
    },
    {
      "cell_type": "markdown",
      "source": [
        "# Iteration 4 + 5 = Similar to Iteration 1 + 2 + 3"
      ],
      "metadata": {
        "id": "qjoa-TKp-tyu"
      }
    }
  ]
}